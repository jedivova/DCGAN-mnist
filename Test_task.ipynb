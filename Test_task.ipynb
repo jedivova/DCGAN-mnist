{
 "cells": [
  {
   "cell_type": "code",
   "execution_count": 3,
   "metadata": {},
   "outputs": [],
   "source": [
    "from __future__ import print_function\n",
    "from ipywidgets import interact, interactive, fixed, interact_manual\n",
    "import ipywidgets as widjets\n",
    "%matplotlib inline\n",
    "\n",
    "import matplotlib.pyplot as plt\n",
    "import torch\n",
    "import torch.nn as nn\n",
    "import torch.nn.functional as F\n",
    "import torch.optim as optim\n",
    "from tqdm import tqdm_notebook\n",
    "import torchvision\n",
    "\n",
    "import numpy as np\n",
    "from utils import set_all_seeds\n",
    "import warnings\n",
    "warnings.filterwarnings('ignore')\n",
    "\n",
    "# lock all seeds for reproducibility reasons\n",
    "set_all_seeds()"
   ]
  },
  {
   "cell_type": "code",
   "execution_count": null,
   "metadata": {},
   "outputs": [],
   "source": []
  },
  {
   "cell_type": "markdown",
   "metadata": {},
   "source": [
    "## Обучение DCGAN реализовано в main.py. За основу был взят репозиторий https://github.com/AKASHKADEL/dcgan-mnist (из-за сохранения гифки процесса обучения), и применены некоторые хаки из https://github.com/soumith/ganhacks\n",
    "а именно:\n",
    "1. смягчение меток (smoothed_labels).\n",
    "2. реализована запись логов в tensorboard\n",
    "3. сохранение модели (почему-то не было??)\n",
    "4. изменена нормализация MNIST от честных (0.13, 0.35) на (0.5, 0.5), поскольку генератор может генерировать картинки со значениями (-1,1).\n",
    "5. BCELoss() -> BCEwithlogits() (убрал из дискриминатора sigmoid layer). чуть быстрее учится\n",
    ".gif процесса обучения лежит в 'results/fixed_noise/animated.gif'"
   ]
  },
  {
   "cell_type": "code",
   "execution_count": 4,
   "metadata": {},
   "outputs": [
    {
     "data": {
      "text/plain": [
       "1"
      ]
     },
     "execution_count": 4,
     "metadata": {},
     "output_type": "execute_result"
    }
   ],
   "source": [
    "# load generator\n",
    "from models import Generator\n",
    "\n",
    "G = Generator(outp_c=1, inp_c=100, ngf=32).cuda().eval()\n",
    "G.load_state_dict(torch.load('results/checkpoints_1/generator_param.pth'))\n",
    "1"
   ]
  },
  {
   "cell_type": "markdown",
   "metadata": {},
   "source": [
    "# 2.1 "
   ]
  },
  {
   "cell_type": "markdown",
   "metadata": {},
   "source": [
    "## Обучение \"процедуры Е\" напоминает процесс дистилляции модели. Сначала я генерирую рандомный вектор (h), получаю картинки из генератора для этого вектора (G(h)). Затем оптимизируем разницу (MSE) между картинками 'G(h)' и 'G(E(G(h))',  Градиент протекает сквозь залоченную модель G и \"накапливается\" в модели E."
   ]
  },
  {
   "cell_type": "code",
   "execution_count": 5,
   "metadata": {},
   "outputs": [],
   "source": [
    "#Procedure E model\n",
    "class Feed_Forward_Net(nn.Module):\n",
    "    def __init__(self, outp_c=100, inp_c=28*28, ngf=32):\n",
    "        super(Feed_Forward_Net, self).__init__()\n",
    "        self.network = nn.Sequential(\n",
    "            nn.Linear(inp_c, ngf*32),\n",
    "            nn.LeakyReLU(0.1, inplace=True),\n",
    "            nn.Linear(ngf*32, outp_c)\n",
    "        )\n",
    "\n",
    "    def forward(self, input):\n",
    "        input = input.view(input.shape[0], -1)\n",
    "        output = self.network(input).view(input.shape[0], -1, 1, 1) # just for convenience\n",
    "        return output"
   ]
  },
  {
   "cell_type": "code",
   "execution_count": 6,
   "metadata": {},
   "outputs": [],
   "source": [
    "# Learning params\n",
    "from torch.optim.lr_scheduler import OneCycleLR\n",
    "from catalyst.contrib.nn import RAdam, Lookahead\n",
    "\n",
    "batch_size = 64\n",
    "latent_dim = G.network[0].in_channels # 100\n",
    "num_epochs=5000\n",
    "\n",
    "# model\n",
    "E = Feed_Forward_Net().cuda().eval()\n",
    "#RAdam + Lookahead rules!\n",
    "base_optimizer = RAdam(E.parameters(), weight_decay=0.03) \n",
    "optimizer = Lookahead(base_optimizer) \n",
    "# criterion MSE. It can be BCE, or BCE+DICE, or L1Loss\n",
    "criterion = nn.MSELoss()#nn.L1Loss()\n",
    "# Cosine scheduler\n",
    "scheduler = OneCycleLR(optimizer,max_lr=0.005, steps_per_epoch=1, epochs=num_epochs)"
   ]
  },
  {
   "cell_type": "markdown",
   "metadata": {},
   "source": [
    "## Training"
   ]
  },
  {
   "cell_type": "code",
   "execution_count": 7,
   "metadata": {},
   "outputs": [
    {
     "data": {
      "application/vnd.jupyter.widget-view+json": {
       "model_id": "48da5c8ae6a14cbcb83e3bd1224644e6",
       "version_major": 2,
       "version_minor": 0
      },
      "text/plain": [
       "HBox(children=(FloatProgress(value=0.0, max=5000.0), HTML(value='')))"
      ]
     },
     "metadata": {},
     "output_type": "display_data"
    },
    {
     "name": "stdout",
     "output_type": "stream",
     "text": [
      "\n",
      "Finished Training\n"
     ]
    }
   ],
   "source": [
    "train_loss_hist = []\n",
    "val_loss_hist = []\n",
    "G.eval()\n",
    "fixed_noise = torch.randn(batch_size, latent_dim, 1, 1).cuda()\n",
    "fixed_images = G(fixed_noise).detach()\n",
    "\n",
    "for epoch in tqdm_notebook(range(num_epochs)):\n",
    "    E.train()\n",
    "    latent_h = torch.randn(batch_size, latent_dim, 1, 1).cuda() # latent h\n",
    "    inputs = G(latent_h).detach() # G(h)\n",
    "\n",
    "    optimizer.zero_grad()\n",
    "    outputs = G(E(inputs)) # G(E(G(h))\n",
    "    \n",
    "    loss = criterion(outputs, inputs) #MSE\n",
    "    loss.backward()\n",
    "    optimizer.step()\n",
    "    scheduler.step()\n",
    "    \n",
    "    # statistics\n",
    "    E.eval()\n",
    "    E_images = G(E(fixed_images))\n",
    "    images_diff = nn.functional.mse_loss(fixed_images, E_images).item()\n",
    "    val_loss_hist.append(images_diff)\n",
    "    train_loss_hist.append(loss.item())\n",
    "\n",
    "print('Finished Training')"
   ]
  },
  {
   "cell_type": "markdown",
   "metadata": {},
   "source": [
    "## Графики свидетельствуют что обучение сошлось"
   ]
  },
  {
   "cell_type": "code",
   "execution_count": 8,
   "metadata": {},
   "outputs": [
    {
     "data": {
      "image/png": "[encoded data removed]",
      "text/plain": [
       "<Figure size 1080x360 with 2 Axes>"
      ]
     },
     "metadata": {
      "needs_background": "light"
     },
     "output_type": "display_data"
    }
   ],
   "source": [
    "plt.figure(figsize=(15,5))\n",
    "plt.subplot(1,2,1)\n",
    "plt.plot(train_loss_hist)\n",
    "plt.title('Train')\n",
    "\n",
    "plt.subplot(1,2,2)\n",
    "plt.plot(val_loss_hist)\n",
    "plt.title('Val')\n",
    "\n",
    "plt.show()"
   ]
  },
  {
   "cell_type": "code",
   "execution_count": 9,
   "metadata": {},
   "outputs": [
    {
     "name": "stderr",
     "output_type": "stream",
     "text": [
      "Clipping input data to the valid range for imshow with RGB data ([0..1] for floats or [0..255] for integers).\n",
      "Clipping input data to the valid range for imshow with RGB data ([0..1] for floats or [0..255] for integers).\n"
     ]
    },
    {
     "name": "stdout",
     "output_type": "stream",
     "text": [
      "MSE( G(h), G(E(G(h))) ) = 0.03215262293815613\n"
     ]
    },
    {
     "data": {
      "text/plain": [
       "<matplotlib.image.AxesImage at 0x2e894f97b88>"
      ]
     },
     "execution_count": 9,
     "metadata": {},
     "output_type": "execute_result"
    },
    {
     "data": {
      "image/png": "[encoded data removed]",
      "text/plain": [
       "<Figure size 1080x360 with 2 Axes>"
      ]
     },
     "metadata": {
      "needs_background": "light"
     },
     "output_type": "display_data"
    }
   ],
   "source": [
    "E.eval(), G.eval()\n",
    "\n",
    "latent_h = torch.randn(batch_size, latent_dim, 1, 1).cuda() # h\n",
    "G_images = G(latent_h).detach() # G(h)\n",
    "G_E_images = G(E(G_images)) # G(E(G(h)))\n",
    "\n",
    "MSE = nn.functional.mse_loss(G_images, G_E_images).item()\n",
    "print('MSE( G(h), G(E(G(h))) ) =', MSE)\n",
    "\n",
    "# placing images to grid for convenience\n",
    "grid_G = torchvision.utils.make_grid(G_images.cpu())\n",
    "grid_E = torchvision.utils.make_grid(G_E_images.cpu())\n",
    "\n",
    "plt.figure(figsize=(15,5))\n",
    "plt.subplot(1,2,1)\n",
    "plt.title('G(h)')\n",
    "plt.imshow(grid_G.permute(1,2,0))\n",
    "\n",
    "plt.subplot(1,2,2)\n",
    "plt.title('G(E(G(h))))')\n",
    "plt.imshow(grid_E.permute(1,2,0))"
   ]
  },
  {
   "cell_type": "markdown",
   "metadata": {},
   "source": [
    "## Изображения практически совпадают, MSE=0.025"
   ]
  },
  {
   "cell_type": "markdown",
   "metadata": {},
   "source": [
    "# 2.2"
   ]
  },
  {
   "cell_type": "markdown",
   "metadata": {},
   "source": [
    "для оптимизационного поиска вектора 'h' для картинки 'x':\n",
    "1. генерируем начальное приближение вектора h - h_init\n",
    "2. итеративно оптимизируем лосс между x и G(h). В качестве лосса я взял BCE+DICE - MSELoss гораздо хуже работает на очень тонких цифрах\n",
    "3. вместо прямого SGD, использую RAdam оптимизатор и Scheduler."
   ]
  },
  {
   "cell_type": "code",
   "execution_count": 10,
   "metadata": {},
   "outputs": [],
   "source": [
    "def dice_loss(pred, target, eps=1.):\n",
    "    pred = pred.contiguous()\n",
    "    target = target.contiguous()\n",
    "\n",
    "    intersection = (pred * target).sum(dim=2).sum(dim=2)\n",
    "\n",
    "    loss = (1 - ((2. * intersection + eps) / (pred.sum(dim=2).sum(dim=2) + target.sum(dim=2).sum(dim=2) + eps)))\n",
    "\n",
    "    return loss.mean()\n",
    "\n",
    "def calc_loss(pred, target, bce_weight=0.5):\n",
    "    pred, target = pred.sigmoid(), target.sigmoid()\n",
    "    #bce = F.binary_cross_entropy_with_logits(pred, target)\n",
    "    bce = F.binary_cross_entropy(pred, target)\n",
    "    dice = dice_loss(pred, target)\n",
    "    loss = bce * bce_weight + dice * (1 - bce_weight)\n",
    "    \n",
    "    return loss"
   ]
  },
  {
   "cell_type": "code",
   "execution_count": 11,
   "metadata": {},
   "outputs": [],
   "source": [
    "def find_h(x, G, max_epoch=4000):\n",
    "    \"\"\"\n",
    "    :param x: torch.Tensor [1,n,1,1], real image\n",
    "    :param G: nn.Module, Generator model\n",
    "    :param max_epoch: int, maximum epoch for training\n",
    "    \n",
    "    Returns: dict{'loss_hist', 'h_init', 'h'}\n",
    "    \"\"\"\n",
    "    \n",
    "    G.eval()\n",
    "    criterion = calc_loss\n",
    "#     criterion = nn.MSELoss()\n",
    "    # генерация начального вектора h\n",
    "    latent_dim = G.network[0].in_channels\n",
    "    h_init = torch.randn(1, latent_dim, 1, 1, requires_grad=False, device=\"cuda\")#.cuda()\n",
    "    \n",
    "    # клонируем вектор, чтобы не изменять начальный. Его мы и будем оптимизировать\n",
    "    h_latent = h_init.clone().requires_grad_() # not to change h_init\n",
    "    \n",
    "    # оптимайзеры\n",
    "    optimizer = RAdam([h_latent], weight_decay=0.03) #RAdam rules\n",
    "    scheduler = OneCycleLR(optimizer, max_lr=0.1, steps_per_epoch=1, epochs=max_epoch)\n",
    "    \n",
    "    # главный цикл\n",
    "    loss_hist = []\n",
    "    for ep in tqdm_notebook(range(num_epochs)):\n",
    "        optimizer.zero_grad()\n",
    "        outp = G(h_latent)\n",
    "        loss = criterion(outp, x)\n",
    "        loss.backward()\n",
    "        optimizer.step()\n",
    "\n",
    "        # Early stopping\n",
    "        curr_loss = loss.item()\n",
    "        if ep > 600:\n",
    "            if abs(loss_hist[-100]-curr_loss)<0.0005:\n",
    "                break        \n",
    "        loss_hist.append(curr_loss)\n",
    "    \n",
    "    print('training finished')\n",
    "    return {'loss_hist': loss_hist,\n",
    "           'h_init': h_init,\n",
    "           'h':h_latent}"
   ]
  },
  {
   "cell_type": "code",
   "execution_count": 12,
   "metadata": {},
   "outputs": [],
   "source": [
    "# importing MNIST loader\n",
    "from utils import get_data_loader\n",
    "DS = get_data_loader(16)\n",
    "# getting batch\n",
    "batch = next(iter(DS))\n",
    "x = batch[0][0].unsqueeze(0).cuda() # Real image"
   ]
  },
  {
   "cell_type": "code",
   "execution_count": 13,
   "metadata": {},
   "outputs": [
    {
     "data": {
      "application/vnd.jupyter.widget-view+json": {
       "model_id": "6cc5635eda1143bb849abba3e5be8e0b",
       "version_major": 2,
       "version_minor": 0
      },
      "text/plain": [
       "HBox(children=(FloatProgress(value=0.0, max=5000.0), HTML(value='')))"
      ]
     },
     "metadata": {},
     "output_type": "display_data"
    },
    {
     "name": "stdout",
     "output_type": "stream",
     "text": [
      "\n",
      "training finished\n"
     ]
    },
    {
     "data": {
      "text/plain": [
       "Text(0.5, 1.0, 'G(h) - image from optimized h')"
      ]
     },
     "execution_count": 13,
     "metadata": {},
     "output_type": "execute_result"
    },
    {
     "data": {
      "image/png": "[encoded data removed]",
      "text/plain": [
       "<Figure size 1080x720 with 3 Axes>"
      ]
     },
     "metadata": {
      "needs_background": "light"
     },
     "output_type": "display_data"
    }
   ],
   "source": [
    "Dict = find_h(x, G, max_epoch=4000)\n",
    "\n",
    "with torch.no_grad():\n",
    "    real_image = x[0][0].cpu()\n",
    "    h_init_image = G(Dict['h_init'])[0][0].cpu()\n",
    "    image_from_h = G(Dict['h'])[0][0].cpu()\n",
    "\n",
    "plt.figure(figsize=(15,10))\n",
    "plt.subplot(1,3,1)\n",
    "plt.imshow(real_image)\n",
    "plt.title('real image')\n",
    "\n",
    "plt.subplot(1,3,2)\n",
    "plt.imshow(h_init_image)\n",
    "plt.title('G(h_init)')\n",
    "\n",
    "plt.subplot(1,3,3)\n",
    "plt.imshow(image_from_h)\n",
    "plt.title('G(h) - image from optimized h')\n",
    "\n"
   ]
  },
  {
   "cell_type": "markdown",
   "metadata": {},
   "source": [
    "### Как видно, из начального приближения h_init получился вектор h, для которого G(h)~x"
   ]
  },
  {
   "cell_type": "code",
   "execution_count": null,
   "metadata": {},
   "outputs": [],
   "source": []
  },
  {
   "cell_type": "markdown",
   "metadata": {},
   "source": [
    "## Для улучшения генератора я бы поучил Conditional GAN, или лучше VAE.\n",
    "## Для усиления \"процедуры Е\" я бы добавил в оптимизируемый лосс классовую компоненту:\n",
    "1. взять предобученный классификатор на MNIST 'Classif'\n",
    "2. добавить в лосс компоненту BCE(Classif(G(h)), Classif(x))."
   ]
  },
  {
   "cell_type": "code",
   "execution_count": null,
   "metadata": {},
   "outputs": [],
   "source": []
  },
  {
   "cell_type": "code",
   "execution_count": null,
   "metadata": {},
   "outputs": [],
   "source": []
  },
  {
   "cell_type": "code",
   "execution_count": null,
   "metadata": {},
   "outputs": [],
   "source": []
  }
 ],
 "metadata": {
  "kernelspec": {
   "display_name": "Python 3",
   "language": "python",
   "name": "python3"
  },
  "language_info": {
   "codemirror_mode": {
    "name": "ipython",
    "version": 3
   },
   "file_extension": ".py",
   "mimetype": "text/x-python",
   "name": "python",
   "nbconvert_exporter": "python",
   "pygments_lexer": "ipython3",
   "version": "3.7.9"
  },
  "widgets": {
   "application/vnd.jupyter.widget-state+json": {
    "state": {
     "02c7e88b7fa7487cb0c4f315417d6d07": {
      "model_module": "@jupyter-widgets/base",
      "model_module_version": "1.1.0",
      "model_name": "LayoutModel",
      "state": {}
     },
     "03d1601a28364f62b61541ac4434a3c2": {
      "model_module": "@jupyter-widgets/base",
      "model_module_version": "1.1.0",
      "model_name": "LayoutModel",
      "state": {}
     },
     "0443efed2f9e460cb3be3c0d4c35a0cc": {
      "model_module": "@jupyter-widgets/controls",
      "model_module_version": "1.4.0",
      "model_name": "ProgressStyleModel",
      "state": {
       "description_width": "initial"
      }
     },
     "048cc9ffd8c142b08b8ca455ddb53c20": {
      "model_module": "@jupyter-widgets/controls",
      "model_module_version": "1.4.0",
      "model_name": "FloatProgressModel",
      "state": {
       "bar_style": "danger",
       "description": " 47%",
       "layout": "IPY_MODEL_ebfa279438a64b72aa915010bb71ac6f",
       "max": 5000,
       "style": "IPY_MODEL_42a7c404749c4cf4b50aef61eb745ae5",
       "value": 2330
      }
     },
     "067aabac9698468397064430ff0b1c0e": {
      "model_module": "@jupyter-widgets/controls",
      "model_module_version": "1.4.0",
      "model_name": "ProgressStyleModel",
      "state": {
       "description_width": "initial"
      }
     },
     "0714e3e30d1a4f3a8347d4853dcad730": {
      "model_module": "@jupyter-widgets/base",
      "model_module_version": "1.1.0",
      "model_name": "LayoutModel",
      "state": {}
     },
     "07dabf29c83b422695c0bb510da5bcbd": {
      "model_module": "@jupyter-widgets/controls",
      "model_module_version": "1.4.0",
      "model_name": "ProgressStyleModel",
      "state": {
       "description_width": "initial"
      }
     },
     "099b34dc9b354f67af2cae112aa546f7": {
      "model_module": "@jupyter-widgets/controls",
      "model_module_version": "1.4.0",
      "model_name": "HTMLModel",
      "state": {
       "layout": "IPY_MODEL_1db910bcd2ce430985818427d20e0038",
       "style": "IPY_MODEL_1821d2b35768421cab7f8907feed3949",
       "value": " 4000/4000 [00:12&lt;00:00, 319.12it/s]"
      }
     },
     "0afde789c333452e8d7dd07d04cc7a10": {
      "model_module": "@jupyter-widgets/controls",
      "model_module_version": "1.4.0",
      "model_name": "DescriptionStyleModel",
      "state": {
       "description_width": ""
      }
     },
     "0ce7bfbc82d44197a5fba06327b15741": {
      "model_module": "@jupyter-widgets/controls",
      "model_module_version": "1.4.0",
      "model_name": "HBoxModel",
      "state": {
       "children": [
        "IPY_MODEL_2713faac884a4155a3560a292ed09fdc",
        "IPY_MODEL_a4673f797e7349898cdafdba9b7b1af0"
       ],
       "layout": "IPY_MODEL_b8d57037161c4d419b2ed34c5dc7b61f"
      }
     },
     "0cedb554e368499183df618d7dc6a453": {
      "model_module": "@jupyter-widgets/controls",
      "model_module_version": "1.4.0",
      "model_name": "HTMLModel",
      "state": {
       "layout": "IPY_MODEL_c22d8f4ba99747b2bb9c0e1cd24941e9",
       "style": "IPY_MODEL_f489b18db2524bea925638081193421d",
       "value": " 2793/4000 [00:06&lt;00:02, 461.71it/s]"
      }
     },
     "0cf0b02e41924d3088a1c81793aa0909": {
      "model_module": "@jupyter-widgets/controls",
      "model_module_version": "1.4.0",
      "model_name": "HTMLModel",
      "state": {
       "layout": "IPY_MODEL_92a1b429a16e4bdc96be598182bd25cd",
       "style": "IPY_MODEL_7963711794f242598a074ebd6689c385",
       "value": " 5000/5000 [02:16&lt;00:00, 36.65it/s]"
      }
     },
     "0d52c4f452aa4c54a01c5dfc60c8f320": {
      "model_module": "@jupyter-widgets/controls",
      "model_module_version": "1.4.0",
      "model_name": "FloatProgressModel",
      "state": {
       "bar_style": "success",
       "description": "100%",
       "layout": "IPY_MODEL_8e1b0f50bc704ff0a0c67a10f3807b74",
       "max": 5000,
       "style": "IPY_MODEL_4692ec15ce1747cc9461b62f275c9fde",
       "value": 5000
      }
     },
     "0d67cf44c2df4532870ba5fa3b5d30ae": {
      "model_module": "@jupyter-widgets/controls",
      "model_module_version": "1.4.0",
      "model_name": "HTMLModel",
      "state": {
       "layout": "IPY_MODEL_12a2f03c704344ee91240bd5fe98901c",
       "style": "IPY_MODEL_509b5309a12e412ebdb4950ff3d38d0d",
       "value": " 725/4000 [00:02&lt;00:10, 308.50it/s]"
      }
     },
     "0d756aad95df436fa05870d4494a8626": {
      "model_module": "@jupyter-widgets/base",
      "model_module_version": "1.1.0",
      "model_name": "LayoutModel",
      "state": {}
     },
     "0da665c1770c42de92ba078d2d2e826d": {
      "model_module": "@jupyter-widgets/base",
      "model_module_version": "1.1.0",
      "model_name": "LayoutModel",
      "state": {}
     },
     "0e548ece2d4446e5acfc473854e5fdb8": {
      "model_module": "@jupyter-widgets/base",
      "model_module_version": "1.1.0",
      "model_name": "LayoutModel",
      "state": {}
     },
     "0ec1fe9980d14bac8521cfc99c6765c1": {
      "model_module": "@jupyter-widgets/controls",
      "model_module_version": "1.4.0",
      "model_name": "HBoxModel",
      "state": {
       "children": [
        "IPY_MODEL_97872186d727450c89d549c43d0aaabd",
        "IPY_MODEL_bc0f311bf5d1431baf75871544e9ed2b"
       ],
       "layout": "IPY_MODEL_4a050b544fad471aa964d87870a5bd4b"
      }
     },
     "0fd9c1dc8c1846e6af4f2e8e9dc0ab8a": {
      "model_module": "@jupyter-widgets/base",
      "model_module_version": "1.1.0",
      "model_name": "LayoutModel",
      "state": {}
     },
     "1287c97f4870419d80001afaac223478": {
      "model_module": "@jupyter-widgets/controls",
      "model_module_version": "1.4.0",
      "model_name": "HTMLModel",
      "state": {
       "layout": "IPY_MODEL_e0a0d65e66934f819affe87e65842c82",
       "style": "IPY_MODEL_19fff17aa1e445af9f1c54bdf86ce913",
       "value": " 3311/4000 [00:07&lt;00:01, 459.20it/s]"
      }
     },
     "12a2f03c704344ee91240bd5fe98901c": {
      "model_module": "@jupyter-widgets/base",
      "model_module_version": "1.1.0",
      "model_name": "LayoutModel",
      "state": {}
     },
     "1311e8b3eb3745af913874616e56cf17": {
      "model_module": "@jupyter-widgets/controls",
      "model_module_version": "1.4.0",
      "model_name": "FloatProgressModel",
      "state": {
       "bar_style": "success",
       "description": "100%",
       "layout": "IPY_MODEL_fa5c12fc421c457781ecc7f707f57db0",
       "max": 5000,
       "style": "IPY_MODEL_98801dec89de4eccaf173c7aeea30aec",
       "value": 5000
      }
     },
     "1821d2b35768421cab7f8907feed3949": {
      "model_module": "@jupyter-widgets/controls",
      "model_module_version": "1.4.0",
      "model_name": "DescriptionStyleModel",
      "state": {
       "description_width": ""
      }
     },
     "18cd1e3cddd1422f8c8f58c6c3911521": {
      "model_module": "@jupyter-widgets/base",
      "model_module_version": "1.1.0",
      "model_name": "LayoutModel",
      "state": {}
     },
     "19fff17aa1e445af9f1c54bdf86ce913": {
      "model_module": "@jupyter-widgets/controls",
      "model_module_version": "1.4.0",
      "model_name": "DescriptionStyleModel",
      "state": {
       "description_width": ""
      }
     },
     "1a66bddc1e2d42afa609f4d01a01410b": {
      "model_module": "@jupyter-widgets/base",
      "model_module_version": "1.1.0",
      "model_name": "LayoutModel",
      "state": {}
     },
     "1c04d908a93a4b389a8097fdb96b4a0b": {
      "model_module": "@jupyter-widgets/controls",
      "model_module_version": "1.4.0",
      "model_name": "HTMLModel",
      "state": {
       "layout": "IPY_MODEL_a32bcee9e6ab4fb6829471a14824c908",
       "style": "IPY_MODEL_ec0de5988a3b4ef2902f6f173874d199",
       "value": " 5000/5000 [01:51&lt;00:00, 45.04it/s]"
      }
     },
     "1ce1984c9ded4e2790d57f18fc81d5ad": {
      "model_module": "@jupyter-widgets/base",
      "model_module_version": "1.1.0",
      "model_name": "LayoutModel",
      "state": {}
     },
     "1d57229dea9f4450b3a587deb7dbcc38": {
      "model_module": "@jupyter-widgets/controls",
      "model_module_version": "1.4.0",
      "model_name": "DescriptionStyleModel",
      "state": {
       "description_width": ""
      }
     },
     "1db910bcd2ce430985818427d20e0038": {
      "model_module": "@jupyter-widgets/base",
      "model_module_version": "1.1.0",
      "model_name": "LayoutModel",
      "state": {}
     },
     "1e3bdab4932f4de79cea17eabd1bb8e7": {
      "model_module": "@jupyter-widgets/base",
      "model_module_version": "1.1.0",
      "model_name": "LayoutModel",
      "state": {}
     },
     "1f42eb57bc5f4839a55a47921f964603": {
      "model_module": "@jupyter-widgets/controls",
      "model_module_version": "1.4.0",
      "model_name": "HBoxModel",
      "state": {
       "children": [
        "IPY_MODEL_9e405c324eb04058b5bd3b237363c37a",
        "IPY_MODEL_a6960045f17e40a7af09cde1ae578462"
       ],
       "layout": "IPY_MODEL_ee802d7c4f534d47a10e52d256fcbed8"
      }
     },
     "205d11321fe7467ab46e3cdc9ff2be01": {
      "model_module": "@jupyter-widgets/base",
      "model_module_version": "1.1.0",
      "model_name": "LayoutModel",
      "state": {}
     },
     "205da2c816a2446988c5dd13c02afcc3": {
      "model_module": "@jupyter-widgets/controls",
      "model_module_version": "1.4.0",
      "model_name": "FloatProgressModel",
      "state": {
       "description": " 24%",
       "layout": "IPY_MODEL_ea3ec129f3b54859aba4bcf5daa14f47",
       "max": 5000,
       "style": "IPY_MODEL_bc5c9b5813df492e8b92802e6f7fa141",
       "value": 1211
      }
     },
     "20b57b24df254e0290f70e2b14426f56": {
      "model_module": "@jupyter-widgets/base",
      "model_module_version": "1.1.0",
      "model_name": "LayoutModel",
      "state": {}
     },
     "211714667a864675a7fb5685fdf85edc": {
      "model_module": "@jupyter-widgets/controls",
      "model_module_version": "1.4.0",
      "model_name": "ProgressStyleModel",
      "state": {
       "description_width": "initial"
      }
     },
     "238f15845c654c399f158d4119b12c2c": {
      "model_module": "@jupyter-widgets/controls",
      "model_module_version": "1.4.0",
      "model_name": "HBoxModel",
      "state": {
       "children": [
        "IPY_MODEL_1311e8b3eb3745af913874616e56cf17",
        "IPY_MODEL_e3c35744dc22455281c4034723129d7c"
       ],
       "layout": "IPY_MODEL_a423e57afad34152b07720b31d1ed9a0"
      }
     },
     "23d0bed29c324a10912b5d9068ae2f8d": {
      "model_module": "@jupyter-widgets/base",
      "model_module_version": "1.1.0",
      "model_name": "LayoutModel",
      "state": {}
     },
     "24815057b03643b2904f27240220643b": {
      "model_module": "@jupyter-widgets/base",
      "model_module_version": "1.1.0",
      "model_name": "LayoutModel",
      "state": {}
     },
     "2682d89316cc476b88d9f6c358c9359f": {
      "model_module": "@jupyter-widgets/controls",
      "model_module_version": "1.4.0",
      "model_name": "FloatProgressModel",
      "state": {
       "bar_style": "success",
       "description": "100%",
       "layout": "IPY_MODEL_85075faea11c414d8e83326fa780fc61",
       "max": 5000,
       "style": "IPY_MODEL_067aabac9698468397064430ff0b1c0e",
       "value": 5000
      }
     },
     "26cc80847f2544e1b4d365bb7636159a": {
      "model_module": "@jupyter-widgets/base",
      "model_module_version": "1.1.0",
      "model_name": "LayoutModel",
      "state": {}
     },
     "2713faac884a4155a3560a292ed09fdc": {
      "model_module": "@jupyter-widgets/controls",
      "model_module_version": "1.4.0",
      "model_name": "FloatProgressModel",
      "state": {
       "bar_style": "danger",
       "description": "  4%",
       "layout": "IPY_MODEL_e3a88b99161f4712a70f12a696fbbf14",
       "max": 5000,
       "style": "IPY_MODEL_b229d641ed10428aa0484e50de3cf7f2",
       "value": 193
      }
     },
     "2743afe59f234358a3af23066d722ee8": {
      "model_module": "@jupyter-widgets/controls",
      "model_module_version": "1.4.0",
      "model_name": "DescriptionStyleModel",
      "state": {
       "description_width": ""
      }
     },
     "27766de396034d1a96d1a7f5077d3aab": {
      "model_module": "@jupyter-widgets/controls",
      "model_module_version": "1.4.0",
      "model_name": "HBoxModel",
      "state": {
       "children": [
        "IPY_MODEL_e957da4d40db4490b50999024393c85e",
        "IPY_MODEL_515742fa773248e5821759b497abdfbb"
       ],
       "layout": "IPY_MODEL_18cd1e3cddd1422f8c8f58c6c3911521"
      }
     },
     "284c063bded5415eb444beb23bd5f75a": {
      "model_module": "@jupyter-widgets/base",
      "model_module_version": "1.1.0",
      "model_name": "LayoutModel",
      "state": {}
     },
     "29601d63fcae45b998d58383e13fea31": {
      "model_module": "@jupyter-widgets/base",
      "model_module_version": "1.1.0",
      "model_name": "LayoutModel",
      "state": {}
     },
     "2a5c44a8077546d4925df32afe3e47a0": {
      "model_module": "@jupyter-widgets/base",
      "model_module_version": "1.1.0",
      "model_name": "LayoutModel",
      "state": {}
     },
     "2bf469df51df41f592c2e39690d1c965": {
      "model_module": "@jupyter-widgets/base",
      "model_module_version": "1.1.0",
      "model_name": "LayoutModel",
      "state": {}
     },
     "2bfb98e373e442d5ad5b90c9eaa87ed2": {
      "model_module": "@jupyter-widgets/controls",
      "model_module_version": "1.4.0",
      "model_name": "FloatProgressModel",
      "state": {
       "bar_style": "danger",
       "description": " 83%",
       "layout": "IPY_MODEL_aeffa7000ca7409f97fb76313e27bd51",
       "max": 4000,
       "style": "IPY_MODEL_75569692aac141d096fa8e5245eae19a",
       "value": 3311
      }
     },
     "2cd2671f6d654bf5a3aa8306f92ea7d7": {
      "model_module": "@jupyter-widgets/base",
      "model_module_version": "1.1.0",
      "model_name": "LayoutModel",
      "state": {}
     },
     "2d752b7069b04afdab4e30413601df79": {
      "model_module": "@jupyter-widgets/controls",
      "model_module_version": "1.4.0",
      "model_name": "FloatProgressModel",
      "state": {
       "bar_style": "success",
       "description": "100%",
       "layout": "IPY_MODEL_de65341c2a53459788ee018fc9857852",
       "max": 4000,
       "style": "IPY_MODEL_89464abff55f4f3d9d51f1eca9f9e515",
       "value": 4000
      }
     },
     "2da0aad2d7414ef884a9e723ec5d903c": {
      "model_module": "@jupyter-widgets/controls",
      "model_module_version": "1.4.0",
      "model_name": "ProgressStyleModel",
      "state": {
       "description_width": "initial"
      }
     },
     "2e81f55a9abc4b4fa4ba5bb8f7ca0c42": {
      "model_module": "@jupyter-widgets/base",
      "model_module_version": "1.1.0",
      "model_name": "LayoutModel",
      "state": {}
     },
     "2ed0f437e68a466598f5661a4e87d62e": {
      "model_module": "@jupyter-widgets/controls",
      "model_module_version": "1.4.0",
      "model_name": "FloatProgressModel",
      "state": {
       "bar_style": "danger",
       "description": " 70%",
       "layout": "IPY_MODEL_81c155bb3b7640f0a4489444cecaeae0",
       "max": 4000,
       "style": "IPY_MODEL_5b99a2a501b44054a5a96053d7e758c4",
       "value": 2793
      }
     },
     "2f6d858fa333414d80c0e3bf4a1ca48a": {
      "model_module": "@jupyter-widgets/base",
      "model_module_version": "1.1.0",
      "model_name": "LayoutModel",
      "state": {}
     },
     "3057d64f96094126885bb19b8738857e": {
      "model_module": "@jupyter-widgets/base",
      "model_module_version": "1.1.0",
      "model_name": "LayoutModel",
      "state": {}
     },
     "35cd5126d1944f88ad79b96cb331386e": {
      "model_module": "@jupyter-widgets/base",
      "model_module_version": "1.1.0",
      "model_name": "LayoutModel",
      "state": {}
     },
     "36b0bcffddcb4cc398fbea03b85ea0db": {
      "model_module": "@jupyter-widgets/controls",
      "model_module_version": "1.4.0",
      "model_name": "DescriptionStyleModel",
      "state": {
       "description_width": ""
      }
     },
     "37ab6788e6894fc8ae0a71290db8f750": {
      "model_module": "@jupyter-widgets/controls",
      "model_module_version": "1.4.0",
      "model_name": "ProgressStyleModel",
      "state": {
       "description_width": "initial"
      }
     },
     "37f0e2d8fb1f485faba5cbbd65f6065b": {
      "model_module": "@jupyter-widgets/controls",
      "model_module_version": "1.4.0",
      "model_name": "HBoxModel",
      "state": {
       "children": [
        "IPY_MODEL_c007027d1d9a4faf97bd38ff60398962",
        "IPY_MODEL_a63c223383fa48c99f88013c188a56b8"
       ],
       "layout": "IPY_MODEL_ecc5786ee7634493a6041fabbef5cf4e"
      }
     },
     "391d0d422b14444c8056aca2d7690662": {
      "model_module": "@jupyter-widgets/base",
      "model_module_version": "1.1.0",
      "model_name": "LayoutModel",
      "state": {}
     },
     "392d85bfd890489aa3c7bf7704b4f434": {
      "model_module": "@jupyter-widgets/controls",
      "model_module_version": "1.4.0",
      "model_name": "HBoxModel",
      "state": {
       "children": [
        "IPY_MODEL_e5d3e16a7ad14c2998a80ca8f7f3704f",
        "IPY_MODEL_ad100e13568941b789d5b37ed8bfc0f0"
       ],
       "layout": "IPY_MODEL_af6fb64624e4448aa79b74a2773a8902"
      }
     },
     "395a3bc378f04b9d8e978f15e606a663": {
      "model_module": "@jupyter-widgets/controls",
      "model_module_version": "1.4.0",
      "model_name": "ProgressStyleModel",
      "state": {
       "description_width": "initial"
      }
     },
     "39e7aaf141fc40698d625750179df011": {
      "model_module": "@jupyter-widgets/base",
      "model_module_version": "1.1.0",
      "model_name": "LayoutModel",
      "state": {}
     },
     "3c0422ec27f44a7aadc0f1c3d7a35706": {
      "model_module": "@jupyter-widgets/controls",
      "model_module_version": "1.4.0",
      "model_name": "DescriptionStyleModel",
      "state": {
       "description_width": ""
      }
     },
     "3e49e40b80b945168b08bd35bd9b3db9": {
      "model_module": "@jupyter-widgets/base",
      "model_module_version": "1.1.0",
      "model_name": "LayoutModel",
      "state": {}
     },
     "411cfd1b59244f9b9bfc58edf8a6a835": {
      "model_module": "@jupyter-widgets/controls",
      "model_module_version": "1.4.0",
      "model_name": "ProgressStyleModel",
      "state": {
       "description_width": "initial"
      }
     },
     "41374072125746398d445056294187db": {
      "model_module": "@jupyter-widgets/controls",
      "model_module_version": "1.4.0",
      "model_name": "DescriptionStyleModel",
      "state": {
       "description_width": ""
      }
     },
     "42a7c404749c4cf4b50aef61eb745ae5": {
      "model_module": "@jupyter-widgets/controls",
      "model_module_version": "1.4.0",
      "model_name": "ProgressStyleModel",
      "state": {
       "description_width": "initial"
      }
     },
     "434f44e76b65486d94bd3daaf8f78f13": {
      "model_module": "@jupyter-widgets/base",
      "model_module_version": "1.1.0",
      "model_name": "LayoutModel",
      "state": {}
     },
     "455ccc74ee3d43a7a0af86fb1191b535": {
      "model_module": "@jupyter-widgets/base",
      "model_module_version": "1.1.0",
      "model_name": "LayoutModel",
      "state": {}
     },
     "4686e6ac658742149385eb1dffd1d8c8": {
      "model_module": "@jupyter-widgets/controls",
      "model_module_version": "1.4.0",
      "model_name": "FloatProgressModel",
      "state": {
       "bar_style": "success",
       "description": "100%",
       "layout": "IPY_MODEL_b7d83bb82a3848d089c2313d6ce675fc",
       "max": 5000,
       "style": "IPY_MODEL_dee8faf5e53b47f99e67e2db728cc6a9",
       "value": 5000
      }
     },
     "4692ec15ce1747cc9461b62f275c9fde": {
      "model_module": "@jupyter-widgets/controls",
      "model_module_version": "1.4.0",
      "model_name": "ProgressStyleModel",
      "state": {
       "description_width": "initial"
      }
     },
     "4756582c09524d94aca00e2715c834d5": {
      "model_module": "@jupyter-widgets/controls",
      "model_module_version": "1.4.0",
      "model_name": "HBoxModel",
      "state": {
       "children": [
        "IPY_MODEL_5e1ee762b17848b8bdc858583dc5133e",
        "IPY_MODEL_a8d42a76c4bf4f75a17698ec414b8d3b"
       ],
       "layout": "IPY_MODEL_c3aef693cdcb4c0dadbadc6e25ce15eb"
      }
     },
     "48da5c8ae6a14cbcb83e3bd1224644e6": {
      "model_module": "@jupyter-widgets/controls",
      "model_module_version": "1.4.0",
      "model_name": "HBoxModel",
      "state": {
       "children": [
        "IPY_MODEL_2682d89316cc476b88d9f6c358c9359f",
        "IPY_MODEL_da59e1947ec7428aaf868b3b216b3cd6"
       ],
       "layout": "IPY_MODEL_b612905ac5604e3e94745fd50955cf97"
      }
     },
     "49494a061c064ae486e8a9ade695fdd8": {
      "model_module": "@jupyter-widgets/controls",
      "model_module_version": "1.4.0",
      "model_name": "DescriptionStyleModel",
      "state": {
       "description_width": ""
      }
     },
     "499e9c72e6094902a2820fbe1969e4e9": {
      "model_module": "@jupyter-widgets/controls",
      "model_module_version": "1.4.0",
      "model_name": "HBoxModel",
      "state": {
       "children": [
        "IPY_MODEL_4686e6ac658742149385eb1dffd1d8c8",
        "IPY_MODEL_9c4d494bbede4f4c8acccc0f3817ec98"
       ],
       "layout": "IPY_MODEL_20b57b24df254e0290f70e2b14426f56"
      }
     },
     "4a050b544fad471aa964d87870a5bd4b": {
      "model_module": "@jupyter-widgets/base",
      "model_module_version": "1.1.0",
      "model_name": "LayoutModel",
      "state": {}
     },
     "4b01bd656d6a45c6aa9181ae79c8d41e": {
      "model_module": "@jupyter-widgets/base",
      "model_module_version": "1.1.0",
      "model_name": "LayoutModel",
      "state": {}
     },
     "4b30c920cc844678a9612b85c1e23729": {
      "model_module": "@jupyter-widgets/controls",
      "model_module_version": "1.4.0",
      "model_name": "HTMLModel",
      "state": {
       "layout": "IPY_MODEL_24815057b03643b2904f27240220643b",
       "style": "IPY_MODEL_7e719feefd2647efb57a3dac2e000075",
       "value": " 5000/5000 [08:20&lt;00:00,  9.99it/s]"
      }
     },
     "4b56c02c949f49c4ad3d1f473870759e": {
      "model_module": "@jupyter-widgets/controls",
      "model_module_version": "1.4.0",
      "model_name": "FloatProgressModel",
      "state": {
       "bar_style": "danger",
       "description": " 18%",
       "layout": "IPY_MODEL_2e81f55a9abc4b4fa4ba5bb8f7ca0c42",
       "max": 4000,
       "style": "IPY_MODEL_c93e037286ef4a5c8f9b44a2b8a17e4b",
       "value": 725
      }
     },
     "4cb33ba340d84fea8341abe84082015a": {
      "model_module": "@jupyter-widgets/controls",
      "model_module_version": "1.4.0",
      "model_name": "ProgressStyleModel",
      "state": {
       "description_width": "initial"
      }
     },
     "4deb56b9fdec4f94b45ae84d40431aec": {
      "model_module": "@jupyter-widgets/controls",
      "model_module_version": "1.4.0",
      "model_name": "HBoxModel",
      "state": {
       "children": [
        "IPY_MODEL_9d46648d933d47ed9724840d17af856f",
        "IPY_MODEL_099b34dc9b354f67af2cae112aa546f7"
       ],
       "layout": "IPY_MODEL_434f44e76b65486d94bd3daaf8f78f13"
      }
     },
     "4f75314055b44c0081f3f0828c4ac094": {
      "model_module": "@jupyter-widgets/base",
      "model_module_version": "1.1.0",
      "model_name": "LayoutModel",
      "state": {}
     },
     "509b5309a12e412ebdb4950ff3d38d0d": {
      "model_module": "@jupyter-widgets/controls",
      "model_module_version": "1.4.0",
      "model_name": "DescriptionStyleModel",
      "state": {
       "description_width": ""
      }
     },
     "50e327e1e0d7403aa39b84590a8bc2ad": {
      "model_module": "@jupyter-widgets/controls",
      "model_module_version": "1.4.0",
      "model_name": "HBoxModel",
      "state": {
       "children": [
        "IPY_MODEL_579c452cbcd346a59a959aa55ba150df",
        "IPY_MODEL_ccb38127ec5a4a28aa33dc923e0bc805"
       ],
       "layout": "IPY_MODEL_284c063bded5415eb444beb23bd5f75a"
      }
     },
     "51451a1c8ed443f8a52a235825974d9d": {
      "model_module": "@jupyter-widgets/controls",
      "model_module_version": "1.4.0",
      "model_name": "HBoxModel",
      "state": {
       "children": [
        "IPY_MODEL_dfdb3258a00a4edca8a6a5b509541afc",
        "IPY_MODEL_e3f40622c2694e0c9bb0669fa5c9d330"
       ],
       "layout": "IPY_MODEL_bd9088c4089e425fb18ae753efb282a8"
      }
     },
     "515742fa773248e5821759b497abdfbb": {
      "model_module": "@jupyter-widgets/controls",
      "model_module_version": "1.4.0",
      "model_name": "HTMLModel",
      "state": {
       "layout": "IPY_MODEL_ddc30c296e5a409aae24dc6f6ff1a8c7",
       "style": "IPY_MODEL_866ad1effd384b899d2eec0e0c5f9648",
       "value": " 2919/4000 [00:09&lt;00:03, 320.87it/s]"
      }
     },
     "544d7d8608654f069ea325ad2bb799c9": {
      "model_module": "@jupyter-widgets/controls",
      "model_module_version": "1.4.0",
      "model_name": "ProgressStyleModel",
      "state": {
       "description_width": "initial"
      }
     },
     "579c452cbcd346a59a959aa55ba150df": {
      "model_module": "@jupyter-widgets/controls",
      "model_module_version": "1.4.0",
      "model_name": "FloatProgressModel",
      "state": {
       "bar_style": "danger",
       "description": "  0%",
       "layout": "IPY_MODEL_1e3bdab4932f4de79cea17eabd1bb8e7",
       "max": 5000,
       "style": "IPY_MODEL_395a3bc378f04b9d8e978f15e606a663"
      }
     },
     "57c5b3b483c84547b740e8519abd1690": {
      "model_module": "@jupyter-widgets/base",
      "model_module_version": "1.1.0",
      "model_name": "LayoutModel",
      "state": {}
     },
     "57daad8c52c8484f9ea4d2b313c2bdaf": {
      "model_module": "@jupyter-widgets/controls",
      "model_module_version": "1.4.0",
      "model_name": "FloatProgressModel",
      "state": {
       "bar_style": "danger",
       "description": " 34%",
       "layout": "IPY_MODEL_b3a63454711d4b6891abfed29cae884f",
       "max": 4000,
       "style": "IPY_MODEL_2da0aad2d7414ef884a9e723ec5d903c",
       "value": 1368
      }
     },
     "5828dfa029a34d8eb238face4bf5b7a2": {
      "model_module": "@jupyter-widgets/base",
      "model_module_version": "1.1.0",
      "model_name": "LayoutModel",
      "state": {}
     },
     "58a588fb385e458fb0ca9e78269a64c2": {
      "model_module": "@jupyter-widgets/controls",
      "model_module_version": "1.4.0",
      "model_name": "ProgressStyleModel",
      "state": {
       "description_width": "initial"
      }
     },
     "5b99a2a501b44054a5a96053d7e758c4": {
      "model_module": "@jupyter-widgets/controls",
      "model_module_version": "1.4.0",
      "model_name": "ProgressStyleModel",
      "state": {
       "description_width": "initial"
      }
     },
     "5c3740269c914fef8e52773ceeaa8609": {
      "model_module": "@jupyter-widgets/controls",
      "model_module_version": "1.4.0",
      "model_name": "HBoxModel",
      "state": {
       "children": [
        "IPY_MODEL_4b56c02c949f49c4ad3d1f473870759e",
        "IPY_MODEL_0d67cf44c2df4532870ba5fa3b5d30ae"
       ],
       "layout": "IPY_MODEL_d14ba095a80e451da9680c4eaefef85b"
      }
     },
     "5cf2ea9fa11f486ca2cf153b5dc1e261": {
      "model_module": "@jupyter-widgets/base",
      "model_module_version": "1.1.0",
      "model_name": "LayoutModel",
      "state": {}
     },
     "5d1f85e84c474daba9a8cd6a9567e106": {
      "model_module": "@jupyter-widgets/controls",
      "model_module_version": "1.4.0",
      "model_name": "HBoxModel",
      "state": {
       "children": [
        "IPY_MODEL_57daad8c52c8484f9ea4d2b313c2bdaf",
        "IPY_MODEL_efb5cefeb76f459f955c481e443e6a46"
       ],
       "layout": "IPY_MODEL_904bfcfde8884118b897ae9c2c64b525"
      }
     },
     "5d590beb9e314920bf34dca26c68bd5c": {
      "model_module": "@jupyter-widgets/controls",
      "model_module_version": "1.4.0",
      "model_name": "DescriptionStyleModel",
      "state": {
       "description_width": ""
      }
     },
     "5e1ee762b17848b8bdc858583dc5133e": {
      "model_module": "@jupyter-widgets/controls",
      "model_module_version": "1.4.0",
      "model_name": "FloatProgressModel",
      "state": {
       "bar_style": "success",
       "description": "100%",
       "layout": "IPY_MODEL_d4f15847c579454a8daf08e8ec27a4a8",
       "max": 5000,
       "style": "IPY_MODEL_58a588fb385e458fb0ca9e78269a64c2",
       "value": 5000
      }
     },
     "607682a3e4934f3bbc3fc734aea8e588": {
      "model_module": "@jupyter-widgets/controls",
      "model_module_version": "1.4.0",
      "model_name": "HTMLModel",
      "state": {
       "layout": "IPY_MODEL_39e7aaf141fc40698d625750179df011",
       "style": "IPY_MODEL_c66fffaa22f3437a868a9318f33b9b51",
       "value": " 1211/5000 [00:09&lt;00:27, 136.11it/s]"
      }
     },
     "610eb9b7304341ac86a0425a55a838a4": {
      "model_module": "@jupyter-widgets/controls",
      "model_module_version": "1.4.0",
      "model_name": "HBoxModel",
      "state": {
       "children": [
        "IPY_MODEL_bd55ffd89650420897df4d97c7626bf5",
        "IPY_MODEL_725bf6e01473476588d7db86c1b2b0bc"
       ],
       "layout": "IPY_MODEL_26cc80847f2544e1b4d365bb7636159a"
      }
     },
     "61c9e378d71b4ffeb4f5420971980655": {
      "model_module": "@jupyter-widgets/controls",
      "model_module_version": "1.4.0",
      "model_name": "HTMLModel",
      "state": {
       "layout": "IPY_MODEL_4f75314055b44c0081f3f0828c4ac094",
       "style": "IPY_MODEL_c1209522e86a49e4bc81f9c7f45d0377",
       "value": " 2330/5000 [00:04&lt;00:05, 512.16it/s]"
      }
     },
     "61e55ce3eb95423bbb10acdd009a573e": {
      "model_module": "@jupyter-widgets/base",
      "model_module_version": "1.1.0",
      "model_name": "LayoutModel",
      "state": {}
     },
     "6238c0e8d5354b9395229846a7ba887b": {
      "model_module": "@jupyter-widgets/base",
      "model_module_version": "1.1.0",
      "model_name": "LayoutModel",
      "state": {}
     },
     "624d1699b3cc443d8561006498ef25c6": {
      "model_module": "@jupyter-widgets/base",
      "model_module_version": "1.1.0",
      "model_name": "LayoutModel",
      "state": {}
     },
     "62feced42d0843449002911426f9e555": {
      "model_module": "@jupyter-widgets/base",
      "model_module_version": "1.1.0",
      "model_name": "LayoutModel",
      "state": {}
     },
     "65813c3cc73d439aabf826107c304dd2": {
      "model_module": "@jupyter-widgets/controls",
      "model_module_version": "1.4.0",
      "model_name": "DescriptionStyleModel",
      "state": {
       "description_width": ""
      }
     },
     "65dff0908e73460095a104fa9a49475c": {
      "model_module": "@jupyter-widgets/controls",
      "model_module_version": "1.4.0",
      "model_name": "ProgressStyleModel",
      "state": {
       "description_width": "initial"
      }
     },
     "6a0f72dd0e834bccae06b355c57f6b23": {
      "model_module": "@jupyter-widgets/controls",
      "model_module_version": "1.4.0",
      "model_name": "FloatProgressModel",
      "state": {
       "bar_style": "danger",
       "description": " 15%",
       "layout": "IPY_MODEL_6f18bff7fd834f56b2fecf4cb3f145da",
       "max": 4000,
       "style": "IPY_MODEL_b1312ff163474a838e135770c9af0730",
       "value": 613
      }
     },
     "6acd960b18c54ad9aea4f786bafaad0d": {
      "model_module": "@jupyter-widgets/controls",
      "model_module_version": "1.4.0",
      "model_name": "HBoxModel",
      "state": {
       "children": [
        "IPY_MODEL_803001fb3ff14fd389a82538fb9ca370",
        "IPY_MODEL_971a3404e27b493a9603b99e2504116b"
       ],
       "layout": "IPY_MODEL_799826ffee3b47d480c375ded6a9afbb"
      }
     },
     "6b40be2001e742919824b3e8b8f589fd": {
      "model_module": "@jupyter-widgets/base",
      "model_module_version": "1.1.0",
      "model_name": "LayoutModel",
      "state": {}
     },
     "6c708a89dc14423e99fecdabe3ad4b72": {
      "model_module": "@jupyter-widgets/controls",
      "model_module_version": "1.4.0",
      "model_name": "FloatProgressModel",
      "state": {
       "bar_style": "danger",
       "description": " 47%",
       "layout": "IPY_MODEL_bc1eb8e42f2c4220a97aa48d44c854ba",
       "max": 5000,
       "style": "IPY_MODEL_65dff0908e73460095a104fa9a49475c",
       "value": 2330
      }
     },
     "6cb04d3f891b46b78cd4eb4c06147402": {
      "model_module": "@jupyter-widgets/base",
      "model_module_version": "1.1.0",
      "model_name": "LayoutModel",
      "state": {}
     },
     "6cc5635eda1143bb849abba3e5be8e0b": {
      "model_module": "@jupyter-widgets/controls",
      "model_module_version": "1.4.0",
      "model_name": "HBoxModel",
      "state": {
       "children": [
        "IPY_MODEL_6c708a89dc14423e99fecdabe3ad4b72",
        "IPY_MODEL_61c9e378d71b4ffeb4f5420971980655"
       ],
       "layout": "IPY_MODEL_57c5b3b483c84547b740e8519abd1690"
      }
     },
     "6d1834a83341491a982c68041efbd65d": {
      "model_module": "@jupyter-widgets/controls",
      "model_module_version": "1.4.0",
      "model_name": "DescriptionStyleModel",
      "state": {
       "description_width": ""
      }
     },
     "6ef48a63ac144a9ab2d8447c6a50ac19": {
      "model_module": "@jupyter-widgets/base",
      "model_module_version": "1.1.0",
      "model_name": "LayoutModel",
      "state": {}
     },
     "6f18bff7fd834f56b2fecf4cb3f145da": {
      "model_module": "@jupyter-widgets/base",
      "model_module_version": "1.1.0",
      "model_name": "LayoutModel",
      "state": {}
     },
     "7077cff329bf421bb36a783a5542300d": {
      "model_module": "@jupyter-widgets/controls",
      "model_module_version": "1.4.0",
      "model_name": "ProgressStyleModel",
      "state": {
       "description_width": "initial"
      }
     },
     "725bf6e01473476588d7db86c1b2b0bc": {
      "model_module": "@jupyter-widgets/controls",
      "model_module_version": "1.4.0",
      "model_name": "HTMLModel",
      "state": {
       "layout": "IPY_MODEL_95af705dfadd4d95aee6282137ad1a73",
       "style": "IPY_MODEL_c7f704e69f0f4b379c65a7c8d378476d",
       "value": " 5000/5000 [28:41&lt;00:00,  2.90it/s]"
      }
     },
     "7323f5bd5b134b258b197ba955522240": {
      "model_module": "@jupyter-widgets/controls",
      "model_module_version": "1.4.0",
      "model_name": "DescriptionStyleModel",
      "state": {
       "description_width": ""
      }
     },
     "7435b3969c7644609da0f0f5d95d818a": {
      "model_module": "@jupyter-widgets/base",
      "model_module_version": "1.1.0",
      "model_name": "LayoutModel",
      "state": {}
     },
     "746a00f4fc294d9886427abf7c38e4c7": {
      "model_module": "@jupyter-widgets/controls",
      "model_module_version": "1.4.0",
      "model_name": "HBoxModel",
      "state": {
       "children": [
        "IPY_MODEL_6a0f72dd0e834bccae06b355c57f6b23",
        "IPY_MODEL_ff4358e4a24f403eadc97865501064cc"
       ],
       "layout": "IPY_MODEL_0e548ece2d4446e5acfc473854e5fdb8"
      }
     },
     "74fc8dd1d2c34e1ea81da978578002db": {
      "model_module": "@jupyter-widgets/base",
      "model_module_version": "1.1.0",
      "model_name": "LayoutModel",
      "state": {}
     },
     "750e1738473a4e7991b2c54b4de34ef7": {
      "model_module": "@jupyter-widgets/controls",
      "model_module_version": "1.4.0",
      "model_name": "FloatProgressModel",
      "state": {
       "bar_style": "success",
       "description": "100%",
       "layout": "IPY_MODEL_fb807d3b09d147fba5b43ae4e22bdd4b",
       "max": 5000,
       "style": "IPY_MODEL_544d7d8608654f069ea325ad2bb799c9",
       "value": 5000
      }
     },
     "75569692aac141d096fa8e5245eae19a": {
      "model_module": "@jupyter-widgets/controls",
      "model_module_version": "1.4.0",
      "model_name": "ProgressStyleModel",
      "state": {
       "description_width": "initial"
      }
     },
     "770217a357a84c92a4de057b3c193253": {
      "model_module": "@jupyter-widgets/controls",
      "model_module_version": "1.4.0",
      "model_name": "HBoxModel",
      "state": {
       "children": [
        "IPY_MODEL_2bfb98e373e442d5ad5b90c9eaa87ed2",
        "IPY_MODEL_1287c97f4870419d80001afaac223478"
       ],
       "layout": "IPY_MODEL_4b01bd656d6a45c6aa9181ae79c8d41e"
      }
     },
     "7716c1e259f244209772e79c7b2e25e0": {
      "model_module": "@jupyter-widgets/base",
      "model_module_version": "1.1.0",
      "model_name": "LayoutModel",
      "state": {}
     },
     "7963711794f242598a074ebd6689c385": {
      "model_module": "@jupyter-widgets/controls",
      "model_module_version": "1.4.0",
      "model_name": "DescriptionStyleModel",
      "state": {
       "description_width": ""
      }
     },
     "799826ffee3b47d480c375ded6a9afbb": {
      "model_module": "@jupyter-widgets/base",
      "model_module_version": "1.1.0",
      "model_name": "LayoutModel",
      "state": {}
     },
     "79f93db8159e467e833daf0a45f132e3": {
      "model_module": "@jupyter-widgets/controls",
      "model_module_version": "1.4.0",
      "model_name": "FloatProgressModel",
      "state": {
       "bar_style": "danger",
       "description": " 97%",
       "layout": "IPY_MODEL_ca7ec5f0ca9e4bf0a6cfd7ddffa68482",
       "max": 4000,
       "style": "IPY_MODEL_a29751f41fd64a7f9422389cc9670eb6",
       "value": 3871
      }
     },
     "7c396dda1a7248b9a08246f86d257a9c": {
      "model_module": "@jupyter-widgets/controls",
      "model_module_version": "1.4.0",
      "model_name": "FloatProgressModel",
      "state": {
       "bar_style": "danger",
       "description": " 96%",
       "layout": "IPY_MODEL_ce20bfbcf31a42bab0e34f2f6d9b58bb",
       "max": 5000,
       "style": "IPY_MODEL_07dabf29c83b422695c0bb510da5bcbd",
       "value": 4807
      }
     },
     "7c39ab46445c4407a0e0af28abb709d7": {
      "model_module": "@jupyter-widgets/controls",
      "model_module_version": "1.4.0",
      "model_name": "HTMLModel",
      "state": {
       "layout": "IPY_MODEL_ca75114b0cd5400da91b2b543458983d",
       "style": "IPY_MODEL_ee260b3c447042539a997beb0610e7b7",
       "value": " 0/5000 [00:07&lt;?, ?it/s]"
      }
     },
     "7d4ef4bfb1c04367a3ec0d69b3ecfe7b": {
      "model_module": "@jupyter-widgets/base",
      "model_module_version": "1.1.0",
      "model_name": "LayoutModel",
      "state": {}
     },
     "7e719feefd2647efb57a3dac2e000075": {
      "model_module": "@jupyter-widgets/controls",
      "model_module_version": "1.4.0",
      "model_name": "DescriptionStyleModel",
      "state": {
       "description_width": ""
      }
     },
     "7ea32c514b524737bebc4c8b3abe5b74": {
      "model_module": "@jupyter-widgets/controls",
      "model_module_version": "1.4.0",
      "model_name": "DescriptionStyleModel",
      "state": {
       "description_width": ""
      }
     },
     "803001fb3ff14fd389a82538fb9ca370": {
      "model_module": "@jupyter-widgets/controls",
      "model_module_version": "1.4.0",
      "model_name": "FloatProgressModel",
      "state": {
       "bar_style": "danger",
       "description": " 54%",
       "layout": "IPY_MODEL_624d1699b3cc443d8561006498ef25c6",
       "max": 4000,
       "style": "IPY_MODEL_8a86b35a4a0e4b27a6d8ec7ae3d72bca",
       "value": 2150
      }
     },
     "81c155bb3b7640f0a4489444cecaeae0": {
      "model_module": "@jupyter-widgets/base",
      "model_module_version": "1.1.0",
      "model_name": "LayoutModel",
      "state": {}
     },
     "82a0141fd9cf4bd5805b480394881505": {
      "model_module": "@jupyter-widgets/controls",
      "model_module_version": "1.4.0",
      "model_name": "ProgressStyleModel",
      "state": {
       "description_width": "initial"
      }
     },
     "82bca8ad0c7e41aea847ed0322ca760c": {
      "model_module": "@jupyter-widgets/controls",
      "model_module_version": "1.4.0",
      "model_name": "DescriptionStyleModel",
      "state": {
       "description_width": ""
      }
     },
     "835d7ffbb3d04fdfaeb02784fcf5ba43": {
      "model_module": "@jupyter-widgets/base",
      "model_module_version": "1.1.0",
      "model_name": "LayoutModel",
      "state": {}
     },
     "84baefe1c08d4d0493947604ca491e41": {
      "model_module": "@jupyter-widgets/controls",
      "model_module_version": "1.4.0",
      "model_name": "HBoxModel",
      "state": {
       "children": [
        "IPY_MODEL_7c396dda1a7248b9a08246f86d257a9c",
        "IPY_MODEL_f20e8fd4e921412190e195ca2ec65282"
       ],
       "layout": "IPY_MODEL_b183554093284074a1b95726e9922ff1"
      }
     },
     "85075faea11c414d8e83326fa780fc61": {
      "model_module": "@jupyter-widgets/base",
      "model_module_version": "1.1.0",
      "model_name": "LayoutModel",
      "state": {}
     },
     "866ad1effd384b899d2eec0e0c5f9648": {
      "model_module": "@jupyter-widgets/controls",
      "model_module_version": "1.4.0",
      "model_name": "DescriptionStyleModel",
      "state": {
       "description_width": ""
      }
     },
     "8774d520dbd5461689a6253e8d1337b8": {
      "model_module": "@jupyter-widgets/controls",
      "model_module_version": "1.4.0",
      "model_name": "HBoxModel",
      "state": {
       "children": [
        "IPY_MODEL_9256bb9da44e4dc69dbc758e57b07fb6",
        "IPY_MODEL_a5ed27a6cd4c4d2f9b60d581a5bdec06"
       ],
       "layout": "IPY_MODEL_ac118bbaba894104b98a7400c3f12351"
      }
     },
     "893cf3a428f94ebfbc16a5bef32c9258": {
      "model_module": "@jupyter-widgets/controls",
      "model_module_version": "1.4.0",
      "model_name": "FloatProgressModel",
      "state": {
       "bar_style": "success",
       "description": "100%",
       "layout": "IPY_MODEL_7d4ef4bfb1c04367a3ec0d69b3ecfe7b",
       "max": 5000,
       "style": "IPY_MODEL_4cb33ba340d84fea8341abe84082015a",
       "value": 5000
      }
     },
     "89464abff55f4f3d9d51f1eca9f9e515": {
      "model_module": "@jupyter-widgets/controls",
      "model_module_version": "1.4.0",
      "model_name": "ProgressStyleModel",
      "state": {
       "description_width": "initial"
      }
     },
     "8a63749cc9a041d09edfd4502eca2f4b": {
      "model_module": "@jupyter-widgets/base",
      "model_module_version": "1.1.0",
      "model_name": "LayoutModel",
      "state": {}
     },
     "8a86b35a4a0e4b27a6d8ec7ae3d72bca": {
      "model_module": "@jupyter-widgets/controls",
      "model_module_version": "1.4.0",
      "model_name": "ProgressStyleModel",
      "state": {
       "description_width": "initial"
      }
     },
     "8e176ebf1ae843d28cfd06054624026d": {
      "model_module": "@jupyter-widgets/base",
      "model_module_version": "1.1.0",
      "model_name": "LayoutModel",
      "state": {}
     },
     "8e1b0f50bc704ff0a0c67a10f3807b74": {
      "model_module": "@jupyter-widgets/base",
      "model_module_version": "1.1.0",
      "model_name": "LayoutModel",
      "state": {}
     },
     "8ff6ce2c2f344185a8d6d4a0b1c7794f": {
      "model_module": "@jupyter-widgets/controls",
      "model_module_version": "1.4.0",
      "model_name": "HBoxModel",
      "state": {
       "children": [
        "IPY_MODEL_b373da653388472f9507986f8b1cdbdd",
        "IPY_MODEL_aaa28db613e644778027cd0f5189e727"
       ],
       "layout": "IPY_MODEL_98788d1445f043f58b4eba2a8de48c14"
      }
     },
     "904bfcfde8884118b897ae9c2c64b525": {
      "model_module": "@jupyter-widgets/base",
      "model_module_version": "1.1.0",
      "model_name": "LayoutModel",
      "state": {}
     },
     "91113d24799146fca2f9eaa0c47755b9": {
      "model_module": "@jupyter-widgets/controls",
      "model_module_version": "1.4.0",
      "model_name": "HBoxModel",
      "state": {
       "children": [
        "IPY_MODEL_f1476f8bbd5b4ec6831badc14d95d6f7",
        "IPY_MODEL_cd65980dd3ca4265896eff0e6c397ae5"
       ],
       "layout": "IPY_MODEL_2a5c44a8077546d4925df32afe3e47a0"
      }
     },
     "9256bb9da44e4dc69dbc758e57b07fb6": {
      "model_module": "@jupyter-widgets/controls",
      "model_module_version": "1.4.0",
      "model_name": "FloatProgressModel",
      "state": {
       "bar_style": "success",
       "description": "100%",
       "layout": "IPY_MODEL_3057d64f96094126885bb19b8738857e",
       "max": 5000,
       "style": "IPY_MODEL_d3853bc4492a45eb9e8db96fd978c833",
       "value": 5000
      }
     },
     "92a1b429a16e4bdc96be598182bd25cd": {
      "model_module": "@jupyter-widgets/base",
      "model_module_version": "1.1.0",
      "model_name": "LayoutModel",
      "state": {}
     },
     "92ad7d11517a4a618f9c861f3e4fb580": {
      "model_module": "@jupyter-widgets/base",
      "model_module_version": "1.1.0",
      "model_name": "LayoutModel",
      "state": {}
     },
     "93e3acb3cb80468fb19056499a5c2f5d": {
      "model_module": "@jupyter-widgets/controls",
      "model_module_version": "1.4.0",
      "model_name": "HBoxModel",
      "state": {
       "children": [
        "IPY_MODEL_048cc9ffd8c142b08b8ca455ddb53c20",
        "IPY_MODEL_c6449d5162654daa9f4176f9b8339f82"
       ],
       "layout": "IPY_MODEL_8a63749cc9a041d09edfd4502eca2f4b"
      }
     },
     "95af705dfadd4d95aee6282137ad1a73": {
      "model_module": "@jupyter-widgets/base",
      "model_module_version": "1.1.0",
      "model_name": "LayoutModel",
      "state": {}
     },
     "960017e1defa4ec7bb59d15abae65724": {
      "model_module": "@jupyter-widgets/base",
      "model_module_version": "1.1.0",
      "model_name": "LayoutModel",
      "state": {}
     },
     "965c2582422e460aabbf37bf42dbc306": {
      "model_module": "@jupyter-widgets/base",
      "model_module_version": "1.1.0",
      "model_name": "LayoutModel",
      "state": {}
     },
     "96dda045209e4388afc09eb3df50d586": {
      "model_module": "@jupyter-widgets/base",
      "model_module_version": "1.1.0",
      "model_name": "LayoutModel",
      "state": {}
     },
     "971a3404e27b493a9603b99e2504116b": {
      "model_module": "@jupyter-widgets/controls",
      "model_module_version": "1.4.0",
      "model_name": "HTMLModel",
      "state": {
       "layout": "IPY_MODEL_6238c0e8d5354b9395229846a7ba887b",
       "style": "IPY_MODEL_36b0bcffddcb4cc398fbea03b85ea0db",
       "value": " 2150/4000 [03:04&lt;02:39, 11.63it/s]"
      }
     },
     "97872186d727450c89d549c43d0aaabd": {
      "model_module": "@jupyter-widgets/controls",
      "model_module_version": "1.4.0",
      "model_name": "FloatProgressModel",
      "state": {
       "bar_style": "danger",
       "description": " 91%",
       "layout": "IPY_MODEL_74fc8dd1d2c34e1ea81da978578002db",
       "max": 4000,
       "style": "IPY_MODEL_82a0141fd9cf4bd5805b480394881505",
       "value": 3641
      }
     },
     "98788d1445f043f58b4eba2a8de48c14": {
      "model_module": "@jupyter-widgets/base",
      "model_module_version": "1.1.0",
      "model_name": "LayoutModel",
      "state": {}
     },
     "98801dec89de4eccaf173c7aeea30aec": {
      "model_module": "@jupyter-widgets/controls",
      "model_module_version": "1.4.0",
      "model_name": "ProgressStyleModel",
      "state": {
       "description_width": "initial"
      }
     },
     "9a0a7c4df3cd4d9e9ab969d02fbe3967": {
      "model_module": "@jupyter-widgets/controls",
      "model_module_version": "1.4.0",
      "model_name": "HBoxModel",
      "state": {
       "children": [
        "IPY_MODEL_2ed0f437e68a466598f5661a4e87d62e",
        "IPY_MODEL_0cedb554e368499183df618d7dc6a453"
       ],
       "layout": "IPY_MODEL_6ef48a63ac144a9ab2d8447c6a50ac19"
      }
     },
     "9c4d494bbede4f4c8acccc0f3817ec98": {
      "model_module": "@jupyter-widgets/controls",
      "model_module_version": "1.4.0",
      "model_name": "HTMLModel",
      "state": {
       "layout": "IPY_MODEL_1a66bddc1e2d42afa609f4d01a01410b",
       "style": "IPY_MODEL_1d57229dea9f4450b3a587deb7dbcc38",
       "value": " 5000/5000 [00:52&lt;00:00, 95.98it/s]"
      }
     },
     "9d46648d933d47ed9724840d17af856f": {
      "model_module": "@jupyter-widgets/controls",
      "model_module_version": "1.4.0",
      "model_name": "FloatProgressModel",
      "state": {
       "bar_style": "success",
       "description": "100%",
       "layout": "IPY_MODEL_965c2582422e460aabbf37bf42dbc306",
       "max": 4000,
       "style": "IPY_MODEL_fab94b929c674b9782ec8beb7ca4b39e",
       "value": 4000
      }
     },
     "9e405c324eb04058b5bd3b237363c37a": {
      "model_module": "@jupyter-widgets/controls",
      "model_module_version": "1.4.0",
      "model_name": "FloatProgressModel",
      "state": {
       "bar_style": "success",
       "description": "100%",
       "layout": "IPY_MODEL_6cb04d3f891b46b78cd4eb4c06147402",
       "max": 5000,
       "style": "IPY_MODEL_cd684491aa144b7b81e572250204bbb1",
       "value": 5000
      }
     },
     "9f366f3b3aec43b78de50eaf4140d456": {
      "model_module": "@jupyter-widgets/controls",
      "model_module_version": "1.4.0",
      "model_name": "DescriptionStyleModel",
      "state": {
       "description_width": ""
      }
     },
     "a04eefb799c3432ea36b66264fec79dc": {
      "model_module": "@jupyter-widgets/controls",
      "model_module_version": "1.4.0",
      "model_name": "FloatProgressModel",
      "state": {
       "bar_style": "danger",
       "description": " 69%",
       "layout": "IPY_MODEL_29601d63fcae45b998d58383e13fea31",
       "max": 4000,
       "style": "IPY_MODEL_7077cff329bf421bb36a783a5542300d",
       "value": 2751
      }
     },
     "a29751f41fd64a7f9422389cc9670eb6": {
      "model_module": "@jupyter-widgets/controls",
      "model_module_version": "1.4.0",
      "model_name": "ProgressStyleModel",
      "state": {
       "description_width": "initial"
      }
     },
     "a32bcee9e6ab4fb6829471a14824c908": {
      "model_module": "@jupyter-widgets/base",
      "model_module_version": "1.1.0",
      "model_name": "LayoutModel",
      "state": {}
     },
     "a3f3216fcfb049999c19a6a87219187e": {
      "model_module": "@jupyter-widgets/controls",
      "model_module_version": "1.4.0",
      "model_name": "HTMLModel",
      "state": {
       "layout": "IPY_MODEL_7716c1e259f244209772e79c7b2e25e0",
       "style": "IPY_MODEL_f410b785ba544c198018d75af974e232",
       "value": " 3871/4000 [00:08&lt;00:00, 458.09it/s]"
      }
     },
     "a4165fd0594f4a36b01936ffd9510bd6": {
      "model_module": "@jupyter-widgets/base",
      "model_module_version": "1.1.0",
      "model_name": "LayoutModel",
      "state": {}
     },
     "a423e57afad34152b07720b31d1ed9a0": {
      "model_module": "@jupyter-widgets/base",
      "model_module_version": "1.1.0",
      "model_name": "LayoutModel",
      "state": {}
     },
     "a4673f797e7349898cdafdba9b7b1af0": {
      "model_module": "@jupyter-widgets/controls",
      "model_module_version": "1.4.0",
      "model_name": "HTMLModel",
      "state": {
       "layout": "IPY_MODEL_835d7ffbb3d04fdfaeb02784fcf5ba43",
       "style": "IPY_MODEL_ae1b2901f8ab4d10a3b64e1d24bf21e6",
       "value": " 193/5000 [00:04&lt;02:01, 39.70it/s]"
      }
     },
     "a56409563b954fef8d0debde3e8766fa": {
      "model_module": "@jupyter-widgets/controls",
      "model_module_version": "1.4.0",
      "model_name": "FloatProgressModel",
      "state": {
       "bar_style": "success",
       "description": "100%",
       "layout": "IPY_MODEL_8e176ebf1ae843d28cfd06054624026d",
       "max": 5000,
       "style": "IPY_MODEL_dcd0057102374f5ea01de30544ae39b6",
       "value": 5000
      }
     },
     "a5ed27a6cd4c4d2f9b60d581a5bdec06": {
      "model_module": "@jupyter-widgets/controls",
      "model_module_version": "1.4.0",
      "model_name": "HTMLModel",
      "state": {
       "layout": "IPY_MODEL_edab0048880b4e1cb7e28240b21eef0d",
       "style": "IPY_MODEL_65813c3cc73d439aabf826107c304dd2",
       "value": " 5000/5000 [01:31&lt;00:00, 54.60it/s]"
      }
     },
     "a63c223383fa48c99f88013c188a56b8": {
      "model_module": "@jupyter-widgets/controls",
      "model_module_version": "1.4.0",
      "model_name": "HTMLModel",
      "state": {
       "layout": "IPY_MODEL_0fd9c1dc8c1846e6af4f2e8e9dc0ab8a",
       "style": "IPY_MODEL_f11561f5cdba4183a23f97e7cff49a5e",
       "value": " 5000/5000 [00:53&lt;00:00, 93.41it/s]"
      }
     },
     "a6960045f17e40a7af09cde1ae578462": {
      "model_module": "@jupyter-widgets/controls",
      "model_module_version": "1.4.0",
      "model_name": "HTMLModel",
      "state": {
       "layout": "IPY_MODEL_92ad7d11517a4a618f9c861f3e4fb580",
       "style": "IPY_MODEL_9f366f3b3aec43b78de50eaf4140d456",
       "value": " 5000/5000 [00:58&lt;00:00, 85.93it/s]"
      }
     },
     "a8d42a76c4bf4f75a17698ec414b8d3b": {
      "model_module": "@jupyter-widgets/controls",
      "model_module_version": "1.4.0",
      "model_name": "HTMLModel",
      "state": {
       "layout": "IPY_MODEL_e0a7260a501842138d802447e9d74f66",
       "style": "IPY_MODEL_ef93ec0f381541589e776d22273f11b3",
       "value": " 5000/5000 [32:45&lt;00:00,  2.54it/s]"
      }
     },
     "aaa28db613e644778027cd0f5189e727": {
      "model_module": "@jupyter-widgets/controls",
      "model_module_version": "1.4.0",
      "model_name": "HTMLModel",
      "state": {
       "layout": "IPY_MODEL_1ce1984c9ded4e2790d57f18fc81d5ad",
       "style": "IPY_MODEL_be9e4af70b684dffb9fbe7a71d4932ec",
       "value": " 1368/4000 [00:04&lt;00:08, 320.18it/s]"
      }
     },
     "aafc54767bc248f7b4019524b5e9a13d": {
      "model_module": "@jupyter-widgets/controls",
      "model_module_version": "1.4.0",
      "model_name": "HBoxModel",
      "state": {
       "children": [
        "IPY_MODEL_a04eefb799c3432ea36b66264fec79dc",
        "IPY_MODEL_ecf0c76fa999401380dce4b09333511a"
       ],
       "layout": "IPY_MODEL_96dda045209e4388afc09eb3df50d586"
      }
     },
     "ac118bbaba894104b98a7400c3f12351": {
      "model_module": "@jupyter-widgets/base",
      "model_module_version": "1.1.0",
      "model_name": "LayoutModel",
      "state": {}
     },
     "ad100e13568941b789d5b37ed8bfc0f0": {
      "model_module": "@jupyter-widgets/controls",
      "model_module_version": "1.4.0",
      "model_name": "HTMLModel",
      "state": {
       "layout": "IPY_MODEL_62feced42d0843449002911426f9e555",
       "style": "IPY_MODEL_e9b3daed491349c4b395ad605d67556c",
       "value": " 5000/5000 [30:22&lt;00:00,  2.74it/s]"
      }
     },
     "ae1b2901f8ab4d10a3b64e1d24bf21e6": {
      "model_module": "@jupyter-widgets/controls",
      "model_module_version": "1.4.0",
      "model_name": "DescriptionStyleModel",
      "state": {
       "description_width": ""
      }
     },
     "aef82dd2d785405dbb4f24f86fd5c16d": {
      "model_module": "@jupyter-widgets/base",
      "model_module_version": "1.1.0",
      "model_name": "LayoutModel",
      "state": {}
     },
     "aeffa7000ca7409f97fb76313e27bd51": {
      "model_module": "@jupyter-widgets/base",
      "model_module_version": "1.1.0",
      "model_name": "LayoutModel",
      "state": {}
     },
     "af6fb64624e4448aa79b74a2773a8902": {
      "model_module": "@jupyter-widgets/base",
      "model_module_version": "1.1.0",
      "model_name": "LayoutModel",
      "state": {}
     },
     "b1312ff163474a838e135770c9af0730": {
      "model_module": "@jupyter-widgets/controls",
      "model_module_version": "1.4.0",
      "model_name": "ProgressStyleModel",
      "state": {
       "description_width": "initial"
      }
     },
     "b183554093284074a1b95726e9922ff1": {
      "model_module": "@jupyter-widgets/base",
      "model_module_version": "1.1.0",
      "model_name": "LayoutModel",
      "state": {}
     },
     "b229d641ed10428aa0484e50de3cf7f2": {
      "model_module": "@jupyter-widgets/controls",
      "model_module_version": "1.4.0",
      "model_name": "ProgressStyleModel",
      "state": {
       "description_width": "initial"
      }
     },
     "b2f8309ce9a44985aae2cd711c15e180": {
      "model_module": "@jupyter-widgets/base",
      "model_module_version": "1.1.0",
      "model_name": "LayoutModel",
      "state": {}
     },
     "b36e736d2436469897372f2b7acc14c9": {
      "model_module": "@jupyter-widgets/controls",
      "model_module_version": "1.4.0",
      "model_name": "ProgressStyleModel",
      "state": {
       "description_width": "initial"
      }
     },
     "b373da653388472f9507986f8b1cdbdd": {
      "model_module": "@jupyter-widgets/controls",
      "model_module_version": "1.4.0",
      "model_name": "FloatProgressModel",
      "state": {
       "bar_style": "danger",
       "description": " 34%",
       "layout": "IPY_MODEL_391d0d422b14444c8056aca2d7690662",
       "max": 4000,
       "style": "IPY_MODEL_37ab6788e6894fc8ae0a71290db8f750",
       "value": 1368
      }
     },
     "b3a63454711d4b6891abfed29cae884f": {
      "model_module": "@jupyter-widgets/base",
      "model_module_version": "1.1.0",
      "model_name": "LayoutModel",
      "state": {}
     },
     "b612905ac5604e3e94745fd50955cf97": {
      "model_module": "@jupyter-widgets/base",
      "model_module_version": "1.1.0",
      "model_name": "LayoutModel",
      "state": {}
     },
     "b75209093930440cbe3340c4e6c5fc6b": {
      "model_module": "@jupyter-widgets/controls",
      "model_module_version": "1.4.0",
      "model_name": "DescriptionStyleModel",
      "state": {
       "description_width": ""
      }
     },
     "b7d83bb82a3848d089c2313d6ce675fc": {
      "model_module": "@jupyter-widgets/base",
      "model_module_version": "1.1.0",
      "model_name": "LayoutModel",
      "state": {}
     },
     "b8d57037161c4d419b2ed34c5dc7b61f": {
      "model_module": "@jupyter-widgets/base",
      "model_module_version": "1.1.0",
      "model_name": "LayoutModel",
      "state": {}
     },
     "b983b58b471143c8b0783374c5d87144": {
      "model_module": "@jupyter-widgets/controls",
      "model_module_version": "1.4.0",
      "model_name": "HBoxModel",
      "state": {
       "children": [
        "IPY_MODEL_893cf3a428f94ebfbc16a5bef32c9258",
        "IPY_MODEL_f28e687eaa6d42bd8bedb253fb919963"
       ],
       "layout": "IPY_MODEL_23d0bed29c324a10912b5d9068ae2f8d"
      }
     },
     "bbc35e26fb1e435e84aa848a2a2f4fd9": {
      "model_module": "@jupyter-widgets/controls",
      "model_module_version": "1.4.0",
      "model_name": "DescriptionStyleModel",
      "state": {
       "description_width": ""
      }
     },
     "bc0f311bf5d1431baf75871544e9ed2b": {
      "model_module": "@jupyter-widgets/controls",
      "model_module_version": "1.4.0",
      "model_name": "HTMLModel",
      "state": {
       "layout": "IPY_MODEL_02c7e88b7fa7487cb0c4f315417d6d07",
       "style": "IPY_MODEL_41374072125746398d445056294187db",
       "value": " 3641/4000 [00:08&lt;00:00, 452.71it/s]"
      }
     },
     "bc1eb8e42f2c4220a97aa48d44c854ba": {
      "model_module": "@jupyter-widgets/base",
      "model_module_version": "1.1.0",
      "model_name": "LayoutModel",
      "state": {}
     },
     "bc5c9b5813df492e8b92802e6f7fa141": {
      "model_module": "@jupyter-widgets/controls",
      "model_module_version": "1.4.0",
      "model_name": "ProgressStyleModel",
      "state": {
       "description_width": "initial"
      }
     },
     "bd55ffd89650420897df4d97c7626bf5": {
      "model_module": "@jupyter-widgets/controls",
      "model_module_version": "1.4.0",
      "model_name": "FloatProgressModel",
      "state": {
       "bar_style": "success",
       "description": "100%",
       "layout": "IPY_MODEL_3e49e40b80b945168b08bd35bd9b3db9",
       "max": 5000,
       "style": "IPY_MODEL_0443efed2f9e460cb3be3c0d4c35a0cc",
       "value": 5000
      }
     },
     "bd9088c4089e425fb18ae753efb282a8": {
      "model_module": "@jupyter-widgets/base",
      "model_module_version": "1.1.0",
      "model_name": "LayoutModel",
      "state": {}
     },
     "be9e4af70b684dffb9fbe7a71d4932ec": {
      "model_module": "@jupyter-widgets/controls",
      "model_module_version": "1.4.0",
      "model_name": "DescriptionStyleModel",
      "state": {
       "description_width": ""
      }
     },
     "bf02f9f3b81b4ab1a29c4ce7bfd1db3a": {
      "model_module": "@jupyter-widgets/base",
      "model_module_version": "1.1.0",
      "model_name": "LayoutModel",
      "state": {}
     },
     "bf0ddf1f29d14b6788be49c669cad0bd": {
      "model_module": "@jupyter-widgets/controls",
      "model_module_version": "1.4.0",
      "model_name": "ProgressStyleModel",
      "state": {
       "description_width": "initial"
      }
     },
     "bf42b52398374031bb2ee20e9e6ba4df": {
      "model_module": "@jupyter-widgets/controls",
      "model_module_version": "1.4.0",
      "model_name": "HBoxModel",
      "state": {
       "children": [
        "IPY_MODEL_0d52c4f452aa4c54a01c5dfc60c8f320",
        "IPY_MODEL_1c04d908a93a4b389a8097fdb96b4a0b"
       ],
       "layout": "IPY_MODEL_61e55ce3eb95423bbb10acdd009a573e"
      }
     },
     "c007027d1d9a4faf97bd38ff60398962": {
      "model_module": "@jupyter-widgets/controls",
      "model_module_version": "1.4.0",
      "model_name": "FloatProgressModel",
      "state": {
       "bar_style": "success",
       "description": "100%",
       "layout": "IPY_MODEL_d2ca37beba6f4875add63e5d96d7dd18",
       "max": 5000,
       "style": "IPY_MODEL_b36e736d2436469897372f2b7acc14c9",
       "value": 5000
      }
     },
     "c1209522e86a49e4bc81f9c7f45d0377": {
      "model_module": "@jupyter-widgets/controls",
      "model_module_version": "1.4.0",
      "model_name": "DescriptionStyleModel",
      "state": {
       "description_width": ""
      }
     },
     "c2081cf463424d39a788d583729fdd03": {
      "model_module": "@jupyter-widgets/base",
      "model_module_version": "1.1.0",
      "model_name": "LayoutModel",
      "state": {}
     },
     "c2222d95b85d4a3b8c8b495a4d2aee3f": {
      "model_module": "@jupyter-widgets/base",
      "model_module_version": "1.1.0",
      "model_name": "LayoutModel",
      "state": {}
     },
     "c22d8f4ba99747b2bb9c0e1cd24941e9": {
      "model_module": "@jupyter-widgets/base",
      "model_module_version": "1.1.0",
      "model_name": "LayoutModel",
      "state": {}
     },
     "c238e3f9a46540baaf3151c5729947b3": {
      "model_module": "@jupyter-widgets/base",
      "model_module_version": "1.1.0",
      "model_name": "LayoutModel",
      "state": {}
     },
     "c2a5358261ee435c97f7a5323c6ab6f8": {
      "model_module": "@jupyter-widgets/base",
      "model_module_version": "1.1.0",
      "model_name": "LayoutModel",
      "state": {}
     },
     "c3aef693cdcb4c0dadbadc6e25ce15eb": {
      "model_module": "@jupyter-widgets/base",
      "model_module_version": "1.1.0",
      "model_name": "LayoutModel",
      "state": {}
     },
     "c4a93f53ff894aedae3c7838322ee135": {
      "model_module": "@jupyter-widgets/controls",
      "model_module_version": "1.4.0",
      "model_name": "ProgressStyleModel",
      "state": {
       "description_width": "initial"
      }
     },
     "c6449d5162654daa9f4176f9b8339f82": {
      "model_module": "@jupyter-widgets/controls",
      "model_module_version": "1.4.0",
      "model_name": "HTMLModel",
      "state": {
       "layout": "IPY_MODEL_0714e3e30d1a4f3a8347d4853dcad730",
       "style": "IPY_MODEL_fd77470a124c421dae3c173c9d2088c4",
       "value": " 2330/5000 [00:04&lt;00:05, 513.00it/s]"
      }
     },
     "c66fffaa22f3437a868a9318f33b9b51": {
      "model_module": "@jupyter-widgets/controls",
      "model_module_version": "1.4.0",
      "model_name": "DescriptionStyleModel",
      "state": {
       "description_width": ""
      }
     },
     "c7f704e69f0f4b379c65a7c8d378476d": {
      "model_module": "@jupyter-widgets/controls",
      "model_module_version": "1.4.0",
      "model_name": "DescriptionStyleModel",
      "state": {
       "description_width": ""
      }
     },
     "c93e037286ef4a5c8f9b44a2b8a17e4b": {
      "model_module": "@jupyter-widgets/controls",
      "model_module_version": "1.4.0",
      "model_name": "ProgressStyleModel",
      "state": {
       "description_width": "initial"
      }
     },
     "ca75114b0cd5400da91b2b543458983d": {
      "model_module": "@jupyter-widgets/base",
      "model_module_version": "1.1.0",
      "model_name": "LayoutModel",
      "state": {}
     },
     "ca7ec5f0ca9e4bf0a6cfd7ddffa68482": {
      "model_module": "@jupyter-widgets/base",
      "model_module_version": "1.1.0",
      "model_name": "LayoutModel",
      "state": {}
     },
     "cbdc2d90e9ca40deabe39210e718a418": {
      "model_module": "@jupyter-widgets/controls",
      "model_module_version": "1.4.0",
      "model_name": "HBoxModel",
      "state": {
       "children": [
        "IPY_MODEL_205da2c816a2446988c5dd13c02afcc3",
        "IPY_MODEL_607682a3e4934f3bbc3fc734aea8e588"
       ],
       "layout": "IPY_MODEL_c238e3f9a46540baaf3151c5729947b3"
      }
     },
     "ccb38127ec5a4a28aa33dc923e0bc805": {
      "model_module": "@jupyter-widgets/controls",
      "model_module_version": "1.4.0",
      "model_name": "HTMLModel",
      "state": {
       "layout": "IPY_MODEL_fb077efb6fcd4c25983f19c10e06a07d",
       "style": "IPY_MODEL_dd152d29d40541ae8bf01e1e48cf716d",
       "value": " 0/5000 [00:09&lt;?, ?it/s]"
      }
     },
     "cd65980dd3ca4265896eff0e6c397ae5": {
      "model_module": "@jupyter-widgets/controls",
      "model_module_version": "1.4.0",
      "model_name": "HTMLModel",
      "state": {
       "layout": "IPY_MODEL_2cd2671f6d654bf5a3aa8306f92ea7d7",
       "style": "IPY_MODEL_2743afe59f234358a3af23066d722ee8",
       "value": " 4000/4000 [00:08&lt;00:00, 455.98it/s]"
      }
     },
     "cd684491aa144b7b81e572250204bbb1": {
      "model_module": "@jupyter-widgets/controls",
      "model_module_version": "1.4.0",
      "model_name": "ProgressStyleModel",
      "state": {
       "description_width": "initial"
      }
     },
     "ce20bfbcf31a42bab0e34f2f6d9b58bb": {
      "model_module": "@jupyter-widgets/base",
      "model_module_version": "1.1.0",
      "model_name": "LayoutModel",
      "state": {}
     },
     "d00e6c1a9745459498d1edda68372e59": {
      "model_module": "@jupyter-widgets/base",
      "model_module_version": "1.1.0",
      "model_name": "LayoutModel",
      "state": {}
     },
     "d14ba095a80e451da9680c4eaefef85b": {
      "model_module": "@jupyter-widgets/base",
      "model_module_version": "1.1.0",
      "model_name": "LayoutModel",
      "state": {}
     },
     "d2ca37beba6f4875add63e5d96d7dd18": {
      "model_module": "@jupyter-widgets/base",
      "model_module_version": "1.1.0",
      "model_name": "LayoutModel",
      "state": {}
     },
     "d3853bc4492a45eb9e8db96fd978c833": {
      "model_module": "@jupyter-widgets/controls",
      "model_module_version": "1.4.0",
      "model_name": "ProgressStyleModel",
      "state": {
       "description_width": "initial"
      }
     },
     "d391518cc0e340e3bbb7eae87de6856b": {
      "model_module": "@jupyter-widgets/controls",
      "model_module_version": "1.4.0",
      "model_name": "HBoxModel",
      "state": {
       "children": [
        "IPY_MODEL_df8d9e6542bd4f3f9aead574187eead2",
        "IPY_MODEL_4b30c920cc844678a9612b85c1e23729"
       ],
       "layout": "IPY_MODEL_6b40be2001e742919824b3e8b8f589fd"
      }
     },
     "d4f15847c579454a8daf08e8ec27a4a8": {
      "model_module": "@jupyter-widgets/base",
      "model_module_version": "1.1.0",
      "model_name": "LayoutModel",
      "state": {}
     },
     "d5613e06109746e792b7ba5e7781c417": {
      "model_module": "@jupyter-widgets/controls",
      "model_module_version": "1.4.0",
      "model_name": "HBoxModel",
      "state": {
       "children": [
        "IPY_MODEL_e080e21d1b4e48f3bfcf0f2ab1d97aa5",
        "IPY_MODEL_7c39ab46445c4407a0e0af28abb709d7"
       ],
       "layout": "IPY_MODEL_960017e1defa4ec7bb59d15abae65724"
      }
     },
     "da59e1947ec7428aaf868b3b216b3cd6": {
      "model_module": "@jupyter-widgets/controls",
      "model_module_version": "1.4.0",
      "model_name": "HTMLModel",
      "state": {
       "layout": "IPY_MODEL_b2f8309ce9a44985aae2cd711c15e180",
       "style": "IPY_MODEL_5d590beb9e314920bf34dca26c68bd5c",
       "value": " 5000/5000 [00:26&lt;00:00, 189.79it/s]"
      }
     },
     "dcd0057102374f5ea01de30544ae39b6": {
      "model_module": "@jupyter-widgets/controls",
      "model_module_version": "1.4.0",
      "model_name": "ProgressStyleModel",
      "state": {
       "description_width": "initial"
      }
     },
     "dd152d29d40541ae8bf01e1e48cf716d": {
      "model_module": "@jupyter-widgets/controls",
      "model_module_version": "1.4.0",
      "model_name": "DescriptionStyleModel",
      "state": {
       "description_width": ""
      }
     },
     "dd5825a53a044f85b380beb2252fd3ee": {
      "model_module": "@jupyter-widgets/controls",
      "model_module_version": "1.4.0",
      "model_name": "HTMLModel",
      "state": {
       "layout": "IPY_MODEL_d00e6c1a9745459498d1edda68372e59",
       "style": "IPY_MODEL_3c0422ec27f44a7aadc0f1c3d7a35706",
       "value": " 5000/5000 [01:22&lt;00:00, 60.51it/s]"
      }
     },
     "ddc30c296e5a409aae24dc6f6ff1a8c7": {
      "model_module": "@jupyter-widgets/base",
      "model_module_version": "1.1.0",
      "model_name": "LayoutModel",
      "state": {}
     },
     "de65341c2a53459788ee018fc9857852": {
      "model_module": "@jupyter-widgets/base",
      "model_module_version": "1.1.0",
      "model_name": "LayoutModel",
      "state": {}
     },
     "dea27821d8ca4fe19226d01a588bd087": {
      "model_module": "@jupyter-widgets/base",
      "model_module_version": "1.1.0",
      "model_name": "LayoutModel",
      "state": {}
     },
     "dee8faf5e53b47f99e67e2db728cc6a9": {
      "model_module": "@jupyter-widgets/controls",
      "model_module_version": "1.4.0",
      "model_name": "ProgressStyleModel",
      "state": {
       "description_width": "initial"
      }
     },
     "df3f2826dd83446ebe6fe6f06cd59d71": {
      "model_module": "@jupyter-widgets/controls",
      "model_module_version": "1.4.0",
      "model_name": "HBoxModel",
      "state": {
       "children": [
        "IPY_MODEL_e83eb39ce4cc45f690c969df3dc0ea16",
        "IPY_MODEL_e20155821616402992c992d64d250073"
       ],
       "layout": "IPY_MODEL_5828dfa029a34d8eb238face4bf5b7a2"
      }
     },
     "df8d9e6542bd4f3f9aead574187eead2": {
      "model_module": "@jupyter-widgets/controls",
      "model_module_version": "1.4.0",
      "model_name": "FloatProgressModel",
      "state": {
       "bar_style": "success",
       "description": "100%",
       "layout": "IPY_MODEL_7435b3969c7644609da0f0f5d95d818a",
       "max": 5000,
       "style": "IPY_MODEL_211714667a864675a7fb5685fdf85edc",
       "value": 5000
      }
     },
     "dfdb3258a00a4edca8a6a5b509541afc": {
      "model_module": "@jupyter-widgets/controls",
      "model_module_version": "1.4.0",
      "model_name": "FloatProgressModel",
      "state": {
       "bar_style": "success",
       "description": "100%",
       "layout": "IPY_MODEL_aef82dd2d785405dbb4f24f86fd5c16d",
       "max": 5000,
       "style": "IPY_MODEL_411cfd1b59244f9b9bfc58edf8a6a835",
       "value": 5000
      }
     },
     "e080e21d1b4e48f3bfcf0f2ab1d97aa5": {
      "model_module": "@jupyter-widgets/controls",
      "model_module_version": "1.4.0",
      "model_name": "FloatProgressModel",
      "state": {
       "bar_style": "danger",
       "description": "  0%",
       "layout": "IPY_MODEL_205d11321fe7467ab46e3cdc9ff2be01",
       "max": 5000,
       "style": "IPY_MODEL_bf0ddf1f29d14b6788be49c669cad0bd"
      }
     },
     "e0a0d65e66934f819affe87e65842c82": {
      "model_module": "@jupyter-widgets/base",
      "model_module_version": "1.1.0",
      "model_name": "LayoutModel",
      "state": {}
     },
     "e0a7260a501842138d802447e9d74f66": {
      "model_module": "@jupyter-widgets/base",
      "model_module_version": "1.1.0",
      "model_name": "LayoutModel",
      "state": {}
     },
     "e1d10dbea8244f45b2901e79435283ad": {
      "model_module": "@jupyter-widgets/controls",
      "model_module_version": "1.4.0",
      "model_name": "HBoxModel",
      "state": {
       "children": [
        "IPY_MODEL_2d752b7069b04afdab4e30413601df79",
        "IPY_MODEL_e6820497cc964747883c7ddb9ccc7ff0"
       ],
       "layout": "IPY_MODEL_a4165fd0594f4a36b01936ffd9510bd6"
      }
     },
     "e20155821616402992c992d64d250073": {
      "model_module": "@jupyter-widgets/controls",
      "model_module_version": "1.4.0",
      "model_name": "HTMLModel",
      "state": {
       "layout": "IPY_MODEL_ef1f9582b5724f5b9c569fd4d0f8a0cc",
       "style": "IPY_MODEL_e284c4328b7c4be2a5c43547f12acfed",
       "value": " 5000/5000 [27:00&lt;00:00,  3.08it/s]"
      }
     },
     "e284c4328b7c4be2a5c43547f12acfed": {
      "model_module": "@jupyter-widgets/controls",
      "model_module_version": "1.4.0",
      "model_name": "DescriptionStyleModel",
      "state": {
       "description_width": ""
      }
     },
     "e3a88b99161f4712a70f12a696fbbf14": {
      "model_module": "@jupyter-widgets/base",
      "model_module_version": "1.1.0",
      "model_name": "LayoutModel",
      "state": {}
     },
     "e3c35744dc22455281c4034723129d7c": {
      "model_module": "@jupyter-widgets/controls",
      "model_module_version": "1.4.0",
      "model_name": "HTMLModel",
      "state": {
       "layout": "IPY_MODEL_0d756aad95df436fa05870d4494a8626",
       "style": "IPY_MODEL_6d1834a83341491a982c68041efbd65d",
       "value": " 5000/5000 [00:37&lt;00:00, 134.17it/s]"
      }
     },
     "e3f40622c2694e0c9bb0669fa5c9d330": {
      "model_module": "@jupyter-widgets/controls",
      "model_module_version": "1.4.0",
      "model_name": "HTMLModel",
      "state": {
       "layout": "IPY_MODEL_c2a5358261ee435c97f7a5323c6ab6f8",
       "style": "IPY_MODEL_b75209093930440cbe3340c4e6c5fc6b",
       "value": " 5000/5000 [01:20&lt;00:00, 62.37it/s]"
      }
     },
     "e3ffb33b04e2420cb73a8eaa9fa52a25": {
      "model_module": "@jupyter-widgets/controls",
      "model_module_version": "1.4.0",
      "model_name": "HBoxModel",
      "state": {
       "children": [
        "IPY_MODEL_a56409563b954fef8d0debde3e8766fa",
        "IPY_MODEL_dd5825a53a044f85b380beb2252fd3ee"
       ],
       "layout": "IPY_MODEL_2f6d858fa333414d80c0e3bf4a1ca48a"
      }
     },
     "e444efd4355e411e9b5c27d65b4268eb": {
      "model_module": "@jupyter-widgets/controls",
      "model_module_version": "1.4.0",
      "model_name": "ProgressStyleModel",
      "state": {
       "description_width": "initial"
      }
     },
     "e53503eede634130877e8c07bbb4db8c": {
      "model_module": "@jupyter-widgets/controls",
      "model_module_version": "1.4.0",
      "model_name": "ProgressStyleModel",
      "state": {
       "description_width": "initial"
      }
     },
     "e5d3e16a7ad14c2998a80ca8f7f3704f": {
      "model_module": "@jupyter-widgets/controls",
      "model_module_version": "1.4.0",
      "model_name": "FloatProgressModel",
      "state": {
       "bar_style": "success",
       "description": "100%",
       "layout": "IPY_MODEL_2bf469df51df41f592c2e39690d1c965",
       "max": 5000,
       "style": "IPY_MODEL_c4a93f53ff894aedae3c7838322ee135",
       "value": 5000
      }
     },
     "e5dcaece01814ea7a2f75125590ef760": {
      "model_module": "@jupyter-widgets/base",
      "model_module_version": "1.1.0",
      "model_name": "LayoutModel",
      "state": {}
     },
     "e6820497cc964747883c7ddb9ccc7ff0": {
      "model_module": "@jupyter-widgets/controls",
      "model_module_version": "1.4.0",
      "model_name": "HTMLModel",
      "state": {
       "layout": "IPY_MODEL_03d1601a28364f62b61541ac4434a3c2",
       "style": "IPY_MODEL_7ea32c514b524737bebc4c8b3abe5b74",
       "value": " 4000/4000 [00:08&lt;00:00, 452.15it/s]"
      }
     },
     "e83eb39ce4cc45f690c969df3dc0ea16": {
      "model_module": "@jupyter-widgets/controls",
      "model_module_version": "1.4.0",
      "model_name": "FloatProgressModel",
      "state": {
       "bar_style": "success",
       "description": "100%",
       "layout": "IPY_MODEL_bf02f9f3b81b4ab1a29c4ce7bfd1db3a",
       "max": 5000,
       "style": "IPY_MODEL_e53503eede634130877e8c07bbb4db8c",
       "value": 5000
      }
     },
     "e957da4d40db4490b50999024393c85e": {
      "model_module": "@jupyter-widgets/controls",
      "model_module_version": "1.4.0",
      "model_name": "FloatProgressModel",
      "state": {
       "bar_style": "danger",
       "description": " 73%",
       "layout": "IPY_MODEL_35cd5126d1944f88ad79b96cb331386e",
       "max": 4000,
       "style": "IPY_MODEL_ec826956fbaf49be9951aa78e8500505",
       "value": 2919
      }
     },
     "e9b3daed491349c4b395ad605d67556c": {
      "model_module": "@jupyter-widgets/controls",
      "model_module_version": "1.4.0",
      "model_name": "DescriptionStyleModel",
      "state": {
       "description_width": ""
      }
     },
     "ea3ec129f3b54859aba4bcf5daa14f47": {
      "model_module": "@jupyter-widgets/base",
      "model_module_version": "1.1.0",
      "model_name": "LayoutModel",
      "state": {}
     },
     "ebfa279438a64b72aa915010bb71ac6f": {
      "model_module": "@jupyter-widgets/base",
      "model_module_version": "1.1.0",
      "model_name": "LayoutModel",
      "state": {}
     },
     "ec0de5988a3b4ef2902f6f173874d199": {
      "model_module": "@jupyter-widgets/controls",
      "model_module_version": "1.4.0",
      "model_name": "DescriptionStyleModel",
      "state": {
       "description_width": ""
      }
     },
     "ec826956fbaf49be9951aa78e8500505": {
      "model_module": "@jupyter-widgets/controls",
      "model_module_version": "1.4.0",
      "model_name": "ProgressStyleModel",
      "state": {
       "description_width": "initial"
      }
     },
     "ecc5786ee7634493a6041fabbef5cf4e": {
      "model_module": "@jupyter-widgets/base",
      "model_module_version": "1.1.0",
      "model_name": "LayoutModel",
      "state": {}
     },
     "ecf0c76fa999401380dce4b09333511a": {
      "model_module": "@jupyter-widgets/controls",
      "model_module_version": "1.4.0",
      "model_name": "HTMLModel",
      "state": {
       "layout": "IPY_MODEL_5cf2ea9fa11f486ca2cf153b5dc1e261",
       "style": "IPY_MODEL_bbc35e26fb1e435e84aa848a2a2f4fd9",
       "value": " 2751/4000 [00:35&lt;00:16, 76.82it/s]"
      }
     },
     "edab0048880b4e1cb7e28240b21eef0d": {
      "model_module": "@jupyter-widgets/base",
      "model_module_version": "1.1.0",
      "model_name": "LayoutModel",
      "state": {}
     },
     "ee260b3c447042539a997beb0610e7b7": {
      "model_module": "@jupyter-widgets/controls",
      "model_module_version": "1.4.0",
      "model_name": "DescriptionStyleModel",
      "state": {
       "description_width": ""
      }
     },
     "ee802d7c4f534d47a10e52d256fcbed8": {
      "model_module": "@jupyter-widgets/base",
      "model_module_version": "1.1.0",
      "model_name": "LayoutModel",
      "state": {}
     },
     "ef1f9582b5724f5b9c569fd4d0f8a0cc": {
      "model_module": "@jupyter-widgets/base",
      "model_module_version": "1.1.0",
      "model_name": "LayoutModel",
      "state": {}
     },
     "ef93ec0f381541589e776d22273f11b3": {
      "model_module": "@jupyter-widgets/controls",
      "model_module_version": "1.4.0",
      "model_name": "DescriptionStyleModel",
      "state": {
       "description_width": ""
      }
     },
     "efb5cefeb76f459f955c481e443e6a46": {
      "model_module": "@jupyter-widgets/controls",
      "model_module_version": "1.4.0",
      "model_name": "HTMLModel",
      "state": {
       "layout": "IPY_MODEL_455ccc74ee3d43a7a0af86fb1191b535",
       "style": "IPY_MODEL_0afde789c333452e8d7dd07d04cc7a10",
       "value": " 1368/4000 [00:04&lt;00:08, 310.14it/s]"
      }
     },
     "f11561f5cdba4183a23f97e7cff49a5e": {
      "model_module": "@jupyter-widgets/controls",
      "model_module_version": "1.4.0",
      "model_name": "DescriptionStyleModel",
      "state": {
       "description_width": ""
      }
     },
     "f1476f8bbd5b4ec6831badc14d95d6f7": {
      "model_module": "@jupyter-widgets/controls",
      "model_module_version": "1.4.0",
      "model_name": "FloatProgressModel",
      "state": {
       "bar_style": "success",
       "description": "100%",
       "layout": "IPY_MODEL_c2222d95b85d4a3b8c8b495a4d2aee3f",
       "max": 4000,
       "style": "IPY_MODEL_e444efd4355e411e9b5c27d65b4268eb",
       "value": 4000
      }
     },
     "f20e8fd4e921412190e195ca2ec65282": {
      "model_module": "@jupyter-widgets/controls",
      "model_module_version": "1.4.0",
      "model_name": "HTMLModel",
      "state": {
       "layout": "IPY_MODEL_e5dcaece01814ea7a2f75125590ef760",
       "style": "IPY_MODEL_7323f5bd5b134b258b197ba955522240",
       "value": " 4807/5000 [02:37&lt;00:06, 30.51it/s]"
      }
     },
     "f28e687eaa6d42bd8bedb253fb919963": {
      "model_module": "@jupyter-widgets/controls",
      "model_module_version": "1.4.0",
      "model_name": "HTMLModel",
      "state": {
       "layout": "IPY_MODEL_c2081cf463424d39a788d583729fdd03",
       "style": "IPY_MODEL_49494a061c064ae486e8a9ade695fdd8",
       "value": " 5000/5000 [00:29&lt;00:00, 172.40it/s]"
      }
     },
     "f3dae8f601fd4ac88f33299b4e962acd": {
      "model_module": "@jupyter-widgets/controls",
      "model_module_version": "1.4.0",
      "model_name": "HBoxModel",
      "state": {
       "children": [
        "IPY_MODEL_750e1738473a4e7991b2c54b4de34ef7",
        "IPY_MODEL_0cf0b02e41924d3088a1c81793aa0909"
       ],
       "layout": "IPY_MODEL_0da665c1770c42de92ba078d2d2e826d"
      }
     },
     "f410b785ba544c198018d75af974e232": {
      "model_module": "@jupyter-widgets/controls",
      "model_module_version": "1.4.0",
      "model_name": "DescriptionStyleModel",
      "state": {
       "description_width": ""
      }
     },
     "f489b18db2524bea925638081193421d": {
      "model_module": "@jupyter-widgets/controls",
      "model_module_version": "1.4.0",
      "model_name": "DescriptionStyleModel",
      "state": {
       "description_width": ""
      }
     },
     "fa5c12fc421c457781ecc7f707f57db0": {
      "model_module": "@jupyter-widgets/base",
      "model_module_version": "1.1.0",
      "model_name": "LayoutModel",
      "state": {}
     },
     "fab94b929c674b9782ec8beb7ca4b39e": {
      "model_module": "@jupyter-widgets/controls",
      "model_module_version": "1.4.0",
      "model_name": "ProgressStyleModel",
      "state": {
       "description_width": "initial"
      }
     },
     "fae7896469ac4bc6a8a8b615b2e78f31": {
      "model_module": "@jupyter-widgets/controls",
      "model_module_version": "1.4.0",
      "model_name": "HBoxModel",
      "state": {
       "children": [
        "IPY_MODEL_79f93db8159e467e833daf0a45f132e3",
        "IPY_MODEL_a3f3216fcfb049999c19a6a87219187e"
       ],
       "layout": "IPY_MODEL_dea27821d8ca4fe19226d01a588bd087"
      }
     },
     "fb077efb6fcd4c25983f19c10e06a07d": {
      "model_module": "@jupyter-widgets/base",
      "model_module_version": "1.1.0",
      "model_name": "LayoutModel",
      "state": {}
     },
     "fb807d3b09d147fba5b43ae4e22bdd4b": {
      "model_module": "@jupyter-widgets/base",
      "model_module_version": "1.1.0",
      "model_name": "LayoutModel",
      "state": {}
     },
     "fd77470a124c421dae3c173c9d2088c4": {
      "model_module": "@jupyter-widgets/controls",
      "model_module_version": "1.4.0",
      "model_name": "DescriptionStyleModel",
      "state": {
       "description_width": ""
      }
     },
     "fed4be8f48ea483aaa1d83f0e8fdb88e": {
      "model_module": "@jupyter-widgets/base",
      "model_module_version": "1.1.0",
      "model_name": "LayoutModel",
      "state": {}
     },
     "ff4358e4a24f403eadc97865501064cc": {
      "model_module": "@jupyter-widgets/controls",
      "model_module_version": "1.4.0",
      "model_name": "HTMLModel",
      "state": {
       "layout": "IPY_MODEL_fed4be8f48ea483aaa1d83f0e8fdb88e",
       "style": "IPY_MODEL_82bca8ad0c7e41aea847ed0322ca760c",
       "value": " 613/4000 [00:01&lt;00:10, 337.30it/s]"
      }
     }
    },
    "version_major": 2,
    "version_minor": 0
   }
  }
 },
 "nbformat": 4,
 "nbformat_minor": 2
}
